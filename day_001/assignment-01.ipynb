{
 "cells": [
  {
   "cell_type": "markdown",
   "metadata": {},
   "source": [
    "# Exercise Level 1"
   ]
  },
  {
   "cell_type": "markdown",
   "metadata": {},
   "source": [
    "#### 1 Open the python interactive shell and do the following operations. The operands are 3 and 4. addition(+), subtraction(-), multiplication(*), modulus(%), division(/), exponential(**) and floor division operator(//)"
   ]
  },
  {
   "cell_type": "code",
   "execution_count": 3,
   "metadata": {},
   "outputs": [
    {
     "name": "stdout",
     "output_type": "stream",
     "text": [
      "Addition: 7\n",
      "Subtraction: -1\n",
      "Multiplication: 12\n",
      "Modulus: 3\n",
      "Division: 0.75\n",
      "Exponential: 81\n",
      "Floor Division: 0\n"
     ]
    }
   ],
   "source": [
    "# Operands\n",
    "operand1 = 3\n",
    "operand2 = 4\n",
    "\n",
    "# Addition\n",
    "addition_result = operand1 + operand2\n",
    "print(\"Addition:\", addition_result)\n",
    "\n",
    "# Subtraction\n",
    "subtraction_result = operand1 - operand2\n",
    "print(\"Subtraction:\", subtraction_result)\n",
    "\n",
    "# Multiplication\n",
    "multiplication_result = operand1 * operand2\n",
    "print(\"Multiplication:\", multiplication_result)\n",
    "\n",
    "# Modulus\n",
    "modulus_result = operand1 % operand2\n",
    "print(\"Modulus:\", modulus_result)\n",
    "\n",
    "# Division\n",
    "division_result = operand1 / operand2\n",
    "print(\"Division:\", division_result)\n",
    "\n",
    "# Exponential\n",
    "exponential_result = operand1 ** operand2\n",
    "print(\"Exponential:\", exponential_result)\n",
    "\n",
    "# Floor Division\n",
    "floor_division_result = operand1 // operand2\n",
    "print(\"Floor Division:\", floor_division_result)\n"
   ]
  },
  {
   "cell_type": "markdown",
   "metadata": {},
   "source": [
    "##### 2 Write strings on the python interactive shell. The strings are the following: Your name, Your family name, Your country and I am enjoying 30 days of python"
   ]
  },
  {
   "cell_type": "code",
   "execution_count": 4,
   "metadata": {},
   "outputs": [
    {
     "name": "stdout",
     "output_type": "stream",
     "text": [
      "Name: Halima\n",
      "Family Name: Mahmoud\n",
      "Country: Nigeria\n",
      "Python Enjoyment: I am enjoying 30 days of Python\n"
     ]
    }
   ],
   "source": [
    "# Strings\n",
    "name = \"Halima\"\n",
    "family_name = \"Mahmoud\"\n",
    "country = \"Nigeria\"\n",
    "enjoying_python = \"I am enjoying 30 days of Python\"\n",
    "\n",
    "# Print the strings\n",
    "print(\"Name:\", name)\n",
    "print(\"Family Name:\", family_name)\n",
    "print(\"Country:\",country)\n",
    "print(\"Python Enjoyment:\", enjoying_python)\n"
   ]
  },
  {
   "cell_type": "markdown",
   "metadata": {},
   "source": [
    "#### 3 Check the data types of the following data: 10, 9.8, 3.14, 4 - 4j, ['Asabeneh', 'Python', 'Finland'], Your name, Your family name, Your country"
   ]
  },
  {
   "cell_type": "code",
   "execution_count": 6,
   "metadata": {},
   "outputs": [
    {
     "name": "stdout",
     "output_type": "stream",
     "text": [
      "Type of data_1: <class 'int'>\n",
      "Type of data_2: <class 'float'>\n",
      "Type of data_3: <class 'float'>\n",
      "Type of data_4: <class 'complex'>\n",
      "Type of data_5: <class 'list'>\n",
      "Type of name: <class 'str'>\n",
      "Type of family_name: <class 'str'>\n",
      "Type of country: <class 'str'>\n"
     ]
    }
   ],
   "source": [
    "# Data types\n",
    "data_1 = 10\n",
    "data_2 = 9.8\n",
    "data_3 = 3.14\n",
    "data_4 = 4 - 4j\n",
    "data_5 = ['Asabeneh', 'Python', 'Finland']\n",
    "name = \"Halima\"\n",
    "family_name = \"Mahmoud\"\n",
    "country = \"Nigeria\"\n",
    "\n",
    "# Check data types\n",
    "print(\"Type of data_1:\", type(data_1))\n",
    "print(\"Type of data_2:\", type(data_2))\n",
    "print(\"Type of data_3:\", type(data_3))\n",
    "print(\"Type of data_4:\", type(data_4))\n",
    "print(\"Type of data_5:\", type(data_5))\n",
    "print(\"Type of name:\", type(name))\n",
    "print(\"Type of family_name:\", type(family_name))\n",
    "print(\"Type of country:\", type(country))\n"
   ]
  },
  {
   "cell_type": "markdown",
   "metadata": {},
   "source": [
    "# Exercise Level 2"
   ]
  },
  {
   "cell_type": "code",
   "execution_count": 7,
   "metadata": {},
   "outputs": [
    {
     "name": "stdout",
     "output_type": "stream",
     "text": [
      "Integer: 150000 <class 'int'>\n",
      "Float: 15000.6678 <class 'float'>\n",
      "Complex: (1+3j) <class 'complex'>\n",
      "String: Halima is 50 years old <class 'str'>\n",
      "Boolean: True <class 'bool'>\n",
      "List: [1, 2, 3, 'a', 'b', 'c'] <class 'list'>\n",
      "Tuple: [\"'Asabeneh', 'Pawel', 'Brook', 'Abraham', 'Lidiya, 5, 'x', 'y'\"] <class 'list'>\n",
      "Set: {1, 2, 3} <class 'set'>\n",
      "Dictionary: {'name': 'Halima', 'age': 50, 'country': 'Nigeria'} <class 'dict'>\n"
     ]
    }
   ],
   "source": [
    "# Integer\n",
    "integer_number = 150000\n",
    "\n",
    "# Float\n",
    "float_number = 15000.6678\n",
    "\n",
    "# Complex\n",
    "complex_number = 1 + 3j\n",
    "# String\n",
    "string_value = \"Halima is 50 years old\"\n",
    "\n",
    "# Boolean\n",
    "boolean_value = True\n",
    "\n",
    "# List\n",
    "list_values = [1, 2, 3, 'a', 'b', 'c']\n",
    "\n",
    "# Tuple\n",
    "tuple_values = [\"'Asabeneh', 'Pawel', 'Brook', 'Abraham', 'Lidiya, 5, 'x', 'y'\"]\n",
    "\n",
    "# Set\n",
    "set_values = {1, 2, 3, 2, 1}  \n",
    "\n",
    "# Dictionary\n",
    "dictionary_values = {'name': 'Halima', 'age': 50, 'country': 'Nigeria'}\n",
    "\n",
    "# Print the values and their types\n",
    "print(\"Integer:\", integer_number, type(integer_number))\n",
    "print(\"Float:\", float_number, type(float_number))\n",
    "print(\"Complex:\", complex_number, type(complex_number))\n",
    "print(\"String:\", string_value, type(string_value))\n",
    "print(\"Boolean:\", boolean_value, type(boolean_value))\n",
    "print(\"List:\", list_values, type(list_values))\n",
    "print(\"Tuple:\", tuple_values, type(tuple_values))\n",
    "print(\"Set:\", set_values, type(set_values))\n",
    "print(\"Dictionary:\", dictionary_values, type(dictionary_values))\n"
   ]
  },
  {
   "cell_type": "markdown",
   "metadata": {},
   "source": [
    "#### 2"
   ]
  },
  {
   "cell_type": "code",
   "execution_count": 8,
   "metadata": {},
   "outputs": [
    {
     "name": "stdout",
     "output_type": "stream",
     "text": [
      "Euclidean Distance: 9.433981132056603\n"
     ]
    }
   ],
   "source": [
    "\n",
    "import math\n",
    "\n",
    "# Coordinates of the points\n",
    "x1, y1 = 2, 3\n",
    "x2, y2 = 10, 8\n",
    "\n",
    "# Euclidean distance formula\n",
    "distance = math.sqrt((x2 - x1)**2 + (y2 - y1)**2)\n",
    "\n",
    "# Print the result\n",
    "print(\"Euclidean Distance:\", distance)\n"
   ]
  }
 ],
 "metadata": {
  "kernelspec": {
   "display_name": "base",
   "language": "python",
   "name": "python3"
  },
  "language_info": {
   "codemirror_mode": {
    "name": "ipython",
    "version": 3
   },
   "file_extension": ".py",
   "mimetype": "text/x-python",
   "name": "python",
   "nbconvert_exporter": "python",
   "pygments_lexer": "ipython3",
   "version": "3.11.7"
  }
 },
 "nbformat": 4,
 "nbformat_minor": 2
}
