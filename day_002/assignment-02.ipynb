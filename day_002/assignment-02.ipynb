{
 "cells": [
  {
   "cell_type": "markdown",
   "metadata": {},
   "source": [
    "# Day 2: 30 Days Of Python Programming "
   ]
  },
  {
   "cell_type": "markdown",
   "metadata": {},
   "source": [
    "### EXERCISE LEVEL 1"
   ]
  },
  {
   "cell_type": "markdown",
   "metadata": {},
   "source": [
    "#### Declare a first name variable and assign a value to it, Declare a last name variable and assign a value to it, Declare a full name variable and assign a value to it, Declare a country variable and assign a value to it, Declare a city variable and assign a value to it, Declare an age variable and assign a value to it, Declare a year variable and assign a value to it, Declare a variable is_married and assign a value to it, Declare a variable is_true and assign a value to it, Declare a variable is_light_on and assign a value to it, Declare multiple variable on one line and Check the data type of all your variables using type() built-in function\n"
   ]
  },
  {
   "cell_type": "code",
   "execution_count": 3,
   "metadata": {},
   "outputs": [
    {
     "name": "stdout",
     "output_type": "stream",
     "text": [
      "Type of first_name: <class 'str'>\n",
      "Type of last_name: <class 'str'>\n",
      "Type of full_name: <class 'str'>\n",
      "Type of country: <class 'str'>\n",
      "Type of city: <class 'str'>\n",
      "Type of age: <class 'int'>\n",
      "Type of year: <class 'int'>\n",
      "Type of is_married: <class 'bool'>\n",
      "Type of is_true: <class 'bool'>\n",
      "Type of is_light_on: <class 'bool'>\n"
     ]
    }
   ],
   "source": [
    "# Declare first name variable and assign a value\n",
    "first_name = \"Halima\"\n",
    "\n",
    "# Declare last name variable and assign a value\n",
    "last_name = \"Mahmoud\"\n",
    "\n",
    "# Declare full name variable and assign a value\n",
    "full_name = \"Halima Mahmoud\"\n",
    "\n",
    "# Declare country variable and assign a value\n",
    "country = \"Nigeria\"\n",
    "\n",
    "# Declare city variable and assign a value\n",
    "city = \"Kano\"\n",
    "\n",
    "# Declare age variable and assign a value\n",
    "age = 50\n",
    "\n",
    "# Declare year variable and assign a value\n",
    "year = 2023\n",
    "\n",
    "# Declare is_married variable and assign a value\n",
    "is_married = False\n",
    "\n",
    "# Declare is_true variable and assign a value\n",
    "is_true = True\n",
    "\n",
    "# Declare is_light_on variable and assign a value\n",
    "is_light_on = True\n",
    "\n",
    "# Declare multiple variables on one line\n",
    "first_name, last_name, age, country = 'Halima', 'Mahmoud', 50, 'Nigeria'\n",
    "\n",
    "\n",
    "print(\"Type of first_name:\", type(first_name))\n",
    "print(\"Type of last_name:\", type(last_name))\n",
    "print(\"Type of full_name:\", type(full_name))\n",
    "print(\"Type of country:\", type(country))\n",
    "print(\"Type of city:\", type(city))\n",
    "print(\"Type of age:\", type(age))\n",
    "print(\"Type of year:\", type(year))\n",
    "print(\"Type of is_married:\", type(is_married))\n",
    "print(\"Type of is_true:\", type(is_true))\n",
    "print(\"Type of is_light_on:\", type(is_light_on))\n",
    "\n"
   ]
  },
  {
   "cell_type": "markdown",
   "metadata": {},
   "source": [
    "#### Using the len() built-in function, find the length of your first name and Compare the length of your first name and your last name"
   ]
  },
  {
   "cell_type": "code",
   "execution_count": 4,
   "metadata": {},
   "outputs": [
    {
     "name": "stdout",
     "output_type": "stream",
     "text": [
      "Length of first name: 6\n",
      "The length of the first name is not equal to the length of the last name.\n"
     ]
    }
   ],
   "source": [
    "# Using len() to find the length of the first name\n",
    "first_name = 'Halima'\n",
    "last_name = 'Mahmoud'\n",
    "length_of_first_name = len(first_name)\n",
    "print(\"Length of first name:\", length_of_first_name)\n",
    "\n",
    "# Compare the length of the first name and last name\n",
    "if len(first_name) == len(last_name):\n",
    "    print(\"The length of the first name is equal to the length of the last name.\")\n",
    "else:\n",
    "    print(\"The length of the first name is not equal to the length of the last name.\")\n"
   ]
  },
  {
   "cell_type": "markdown",
   "metadata": {},
   "source": []
  },
  {
   "cell_type": "code",
   "execution_count": 5,
   "metadata": {},
   "outputs": [
    {
     "name": "stdout",
     "output_type": "stream",
     "text": [
      "Total: 9\n",
      "Difference: 1\n",
      "Product: 20\n",
      "Division: 1.25\n",
      "Remainder: 4\n",
      "Exponential: 625\n",
      "Floor Division: 1\n"
     ]
    }
   ],
   "source": [
    "# Declare num_one and num_two\n",
    "num_one = 5\n",
    "num_two = 4\n",
    "\n",
    "# Add num_one and num_two\n",
    "total = num_one + num_two\n",
    "print(\"Total:\", total)\n",
    "\n",
    "# Subtract num_two from num_one\n",
    "diff = num_one - num_two\n",
    "print(\"Difference:\", diff)\n",
    "\n",
    "# Multiply num_two and num_one\n",
    "product = num_one * num_two\n",
    "print(\"Product:\", product)\n",
    "\n",
    "# Divide num_one by num_two\n",
    "division = num_one / num_two\n",
    "print(\"Division:\", division)\n",
    "\n",
    "# Modulus division: find num_two divided by num_one\n",
    "remainder = num_two % num_one\n",
    "print(\"Remainder:\", remainder)\n",
    "\n",
    "# Calculate num_one to the power of num_two\n",
    "exp = num_one ** num_two\n",
    "print(\"Exponential:\", exp)\n",
    "\n",
    "# Find floor division of num_one by num_two\n",
    "floor_division = num_one // num_two\n",
    "print(\"Floor Division:\", floor_division)\n"
   ]
  },
  {
   "cell_type": "markdown",
   "metadata": {},
   "source": [
    "#### The radius of a circle is 30 meters.  Calculate the area of a circle and assign the value to a variable name of area_of_circle  Calculate the circumference of a circle and assign the value to a variable name of circum_of_circle  and Take radius as user input and calculate the area."
   ]
  },
  {
   "cell_type": "code",
   "execution_count": 6,
   "metadata": {},
   "outputs": [
    {
     "name": "stdout",
     "output_type": "stream",
     "text": [
      "Area of the circle: 2827.4333882308138\n",
      "Circumference of the circle: 188.49555921538757\n",
      "Area of the circle with user input radius: 2827.4333882308138\n"
     ]
    }
   ],
   "source": [
    "import math\n",
    "\n",
    "# Given radius\n",
    "radius = 30\n",
    "\n",
    "# Calculate the area of a circle\n",
    "area_of_circle = math.pi * (radius ** 2)\n",
    "print(\"Area of the circle:\", area_of_circle)\n",
    "\n",
    "# Calculate the circumference of a circle\n",
    "circum_of_circle = 2 * math.pi * radius\n",
    "print(\"Circumference of the circle:\", circum_of_circle)\n",
    "\n",
    "# Take radius as user input\n",
    "user_radius = float(input(\"Enter the radius of the circle: \"))\n",
    "\n",
    "# Calculate the area with user input radius\n",
    "area_with_user_radius = math.pi * (user_radius ** 2)\n",
    "print(\"Area of the circle with user input radius:\", area_with_user_radius)\n"
   ]
  },
  {
   "cell_type": "markdown",
   "metadata": {},
   "source": []
  },
  {
   "cell_type": "code",
   "execution_count": 7,
   "metadata": {},
   "outputs": [
    {
     "name": "stdout",
     "output_type": "stream",
     "text": [
      "User Information:\n",
      "First Name: Halima\n",
      "Last Name: Mahmoud\n",
      "Country: Nigeria\n",
      "Age: 50\n"
     ]
    }
   ],
   "source": [
    "# Get user input for first name, last name, country, and age\n",
    "first_name = input(\"Enter your first name: \")\n",
    "last_name = input(\"Enter your last name: \")\n",
    "country = input(\"Enter your country: \")\n",
    "age = input(\"Enter your age: \")\n",
    "\n",
    "# Display the user-input information\n",
    "print(\"User Information:\")\n",
    "print(\"First Name:\", first_name)\n",
    "print(\"Last Name:\", last_name)\n",
    "print(\"Country:\", country)\n",
    "print(\"Age:\", age)\n"
   ]
  },
  {
   "cell_type": "code",
   "execution_count": 8,
   "metadata": {},
   "outputs": [
    {
     "name": "stdout",
     "output_type": "stream",
     "text": [
      "\n",
      "Here is a list of the Python keywords.  Enter any keyword to get more help.\n",
      "\n",
      "False               class               from                or\n",
      "None                continue            global              pass\n",
      "True                def                 if                  raise\n",
      "and                 del                 import              return\n",
      "as                  elif                in                  try\n",
      "assert              else                is                  while\n",
      "async               except              lambda              with\n",
      "await               finally             nonlocal            yield\n",
      "break               for                 not                 \n",
      "\n"
     ]
    }
   ],
   "source": [
    "# Display Python keywords\n",
    "help('keywords')\n"
   ]
  }
 ],
 "metadata": {
  "kernelspec": {
   "display_name": "base",
   "language": "python",
   "name": "python3"
  },
  "language_info": {
   "codemirror_mode": {
    "name": "ipython",
    "version": 3
   },
   "file_extension": ".py",
   "mimetype": "text/x-python",
   "name": "python",
   "nbconvert_exporter": "python",
   "pygments_lexer": "ipython3",
   "version": "3.11.7"
  }
 },
 "nbformat": 4,
 "nbformat_minor": 2
}
