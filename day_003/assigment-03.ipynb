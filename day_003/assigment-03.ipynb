{
 "cells": [
  {
   "cell_type": "markdown",
   "metadata": {},
   "source": [
    "##### QUESTION 1 , 2 AND 3 Declare your age as integer variable, Declare your height as a float variable and Declare a variable that store a complex number"
   ]
  },
  {
   "cell_type": "code",
   "execution_count": 1,
   "metadata": {},
   "outputs": [
    {
     "name": "stdout",
     "output_type": "stream",
     "text": [
      "Age: 50 <class 'int'>\n",
      "Height: 1.64 <class 'float'>\n",
      "Complex Number Variable: (2+3j) <class 'complex'>\n"
     ]
    }
   ],
   "source": [
    "# Declare your age as an integer variable\n",
    "age = 50\n",
    "\n",
    "# Declare your height as a float variable\n",
    "height = 1.64\n",
    "\n",
    "# Declare a variable that stores a complex number\n",
    "complex_number_var = 2 + 3j\n",
    "\n",
    "# Display the values and their types\n",
    "print(\"Age:\", age, type(age))\n",
    "print(\"Height:\", height, type(height))\n",
    "print(\"Complex Number Variable:\", complex_number_var, type(complex_number_var))\n"
   ]
  },
  {
   "cell_type": "markdown",
   "metadata": {},
   "source": [
    "#### Write a script that prompts the user to enter base and height of the triangle and calculate an area of this triangle (area = 0.5 x b x h)."
   ]
  },
  {
   "cell_type": "code",
   "execution_count": 2,
   "metadata": {},
   "outputs": [
    {
     "name": "stdout",
     "output_type": "stream",
     "text": [
      "The area of the triangle is: 100.0\n"
     ]
    }
   ],
   "source": [
    "# Prompt the user to enter base and height of the triangle\n",
    "base = float(input(\"Enter the base of the triangle: \"))\n",
    "height = float(input(\"Enter the height of the triangle: \"))\n",
    "\n",
    "# Calculate the area of the triangle\n",
    "area = 0.5 * base * height\n",
    "\n",
    "# Display the calculated area\n",
    "print(\"The area of the triangle is:\", area)\n"
   ]
  },
  {
   "cell_type": "markdown",
   "metadata": {},
   "source": [
    "#### Write a script that prompts the user to enter side a, side b, and side c of the triangle. Calculate the perimeter of the triangle (perimeter = a + b + c)"
   ]
  },
  {
   "cell_type": "code",
   "execution_count": 4,
   "metadata": {},
   "outputs": [
    {
     "name": "stdout",
     "output_type": "stream",
     "text": [
      "The perimeter of the triangle is: 12.0\n"
     ]
    }
   ],
   "source": [
    "# Prompt the user to enter sides a, b, and c of the triangle\n",
    "side_a = float(input(\"Enter the length of side a: \"))\n",
    "side_b = float(input(\"Enter the length of side b: \"))\n",
    "side_c = float(input(\"Enter the length of side c: \"))\n",
    "\n",
    "# Calculate the perimeter of the triangle\n",
    "perimeter = side_a + side_b + side_c\n",
    "\n",
    "# Display the calculated perimeter\n",
    "print(\"The perimeter of the triangle is:\", perimeter)\n"
   ]
  },
  {
   "cell_type": "markdown",
   "metadata": {},
   "source": [
    "#### Get length and width of a rectangle using prompt. Calculate its area (area = length x width) and perimeter (perimeter = 2 x (length + width))"
   ]
  },
  {
   "cell_type": "code",
   "execution_count": 5,
   "metadata": {},
   "outputs": [
    {
     "name": "stdout",
     "output_type": "stream",
     "text": [
      "The area of the rectangle is: 20.0\n",
      "The perimeter of the rectangle is: 18.0\n"
     ]
    }
   ],
   "source": [
    "# Prompt the user to enter length and width of the rectangle\n",
    "length = float(input(\"Enter the length of the rectangle: \"))\n",
    "width = float(input(\"Enter the width of the rectangle: \"))\n",
    "\n",
    "# Calculate the area of the rectangle\n",
    "area = length * width\n",
    "\n",
    "# Calculate the perimeter of the rectangle\n",
    "perimeter = 2 * (length + width)\n",
    "\n",
    "# Display the calculated area and perimeter\n",
    "print(\"The area of the rectangle is:\", area)\n",
    "print(\"The perimeter of the rectangle is:\", perimeter)\n"
   ]
  },
  {
   "cell_type": "markdown",
   "metadata": {},
   "source": [
    "#### Get radius of a circle using prompt. Calculate the area (area = pi x r x r) and circumference (c = 2 x pi x r) where pi = 3.14."
   ]
  },
  {
   "cell_type": "code",
   "execution_count": 6,
   "metadata": {},
   "outputs": [
    {
     "name": "stdout",
     "output_type": "stream",
     "text": [
      "The area of the circle is: 2827.4333882308138\n",
      "The circumference of the circle is: 188.49555921538757\n"
     ]
    }
   ],
   "source": [
    "import math\n",
    "\n",
    "# Prompt the user to enter the radius of the circle\n",
    "radius = float(input(\"Enter the radius of the circle: \"))\n",
    "\n",
    "# Calculate the area of the circle\n",
    "area = math.pi * radius**2\n",
    "\n",
    "# Calculate the circumference of the circle\n",
    "circumference = 2 * math.pi * radius\n",
    "\n",
    "# Display the calculated area and circumference\n",
    "print(\"The area of the circle is:\", area)\n",
    "print(\"The circumference of the circle is:\", circumference)\n"
   ]
  },
  {
   "cell_type": "markdown",
   "metadata": {},
   "source": [
    "#### Calculate the slope, x-intercept and y-intercept of y = 2x -2\n"
   ]
  },
  {
   "cell_type": "code",
   "execution_count": 7,
   "metadata": {},
   "outputs": [
    {
     "name": "stdout",
     "output_type": "stream",
     "text": [
      "Slope (m): 2\n",
      "Y-intercept (b): -2\n",
      "X-intercept: 1\n"
     ]
    }
   ],
   "source": [
    "# Given equation: y = 2x - 2\n",
    "\n",
    "# Extracting values from the equation\n",
    "slope = 2\n",
    "y_intercept = -2\n",
    "\n",
    "# The x-intercept is where y = 0\n",
    "# 0 = 2x - 2\n",
    "# Solving for x, x = 1\n",
    "x_intercept = 1\n",
    "\n",
    "# Display the calculated values\n",
    "print(\"Slope (m):\", slope)\n",
    "print(\"Y-intercept (b):\", y_intercept)\n",
    "print(\"X-intercept:\", x_intercept)\n"
   ]
  },
  {
   "cell_type": "markdown",
   "metadata": {},
   "source": [
    "#### Slope is (m = y2-y1/x2-x1). Find the slope and Euclidean distance between point (2, 2) and point (6,10)"
   ]
  },
  {
   "cell_type": "code",
   "execution_count": 8,
   "metadata": {},
   "outputs": [
    {
     "name": "stdout",
     "output_type": "stream",
     "text": [
      "Slope (m): 2.0\n",
      "Euclidean Distance: 8.94427190999916\n"
     ]
    }
   ],
   "source": [
    "import math\n",
    "\n",
    "# Given points\n",
    "x1, y1 = 2, 2\n",
    "x2, y2 = 6, 10\n",
    "\n",
    "# Calculate the slope \n",
    "slope = (y2 - y1) / (x2 - x1)\n",
    "\n",
    "# Calculate the Euclidean distance\n",
    "euclidean_distance = math.sqrt((x2 - x1)**2 + (y2 - y1)**2)\n",
    "\n",
    "# Display the calculated values\n",
    "print(\"Slope (m):\", slope)\n",
    "print(\"Euclidean Distance:\", euclidean_distance)\n"
   ]
  },
  {
   "cell_type": "markdown",
   "metadata": {},
   "source": []
  },
  {
   "cell_type": "code",
   "execution_count": 9,
   "metadata": {},
   "outputs": [
    {
     "name": "stdout",
     "output_type": "stream",
     "text": [
      "Slope (m) for task 9: 2.0\n"
     ]
    }
   ],
   "source": [
    "# Given points for task 9\n",
    "x1_task9, y1_task9 = 2, 2\n",
    "x2_task9, y2_task9 = 6, 10\n",
    "\n",
    "# Calculate the slope (m) for task 9\n",
    "slope_task9 = (y2_task9 - y1_task9) / (x2_task9 - x1_task9)\n",
    "\n",
    "# Display the calculated slope for task 9\n",
    "print(\"Slope (m) for task 9:\", slope_task9)\n"
   ]
  },
  {
   "cell_type": "markdown",
   "metadata": {},
   "source": [
    "#### Calculate the value of y (y = x^2 + 6x + 9). Try to use different x values and figure out at what x value y is going to be 0.\n"
   ]
  },
  {
   "cell_type": "code",
   "execution_count": 10,
   "metadata": {},
   "outputs": [
    {
     "name": "stdout",
     "output_type": "stream",
     "text": [
      "For x = -10, y = 49\n",
      "For x = -9, y = 36\n",
      "For x = -8, y = 25\n",
      "For x = -7, y = 16\n",
      "For x = -6, y = 9\n",
      "For x = -5, y = 4\n",
      "For x = -4, y = 1\n",
      "For x = -3, y = 0\n",
      "For x = -2, y = 1\n",
      "For x = -1, y = 4\n",
      "For x = 0, y = 9\n",
      "For x = 1, y = 16\n",
      "For x = 2, y = 25\n",
      "For x = 3, y = 36\n",
      "For x = 4, y = 49\n",
      "For x = 5, y = 64\n",
      "For x = 6, y = 81\n",
      "For x = 7, y = 100\n",
      "For x = 8, y = 121\n",
      "For x = 9, y = 144\n",
      "For x = 10, y = 169\n",
      "\n",
      "For y = 0, x = -3\n"
     ]
    }
   ],
   "source": [
    "# Given quadratic equation: y = x^2 + 6x + 9\n",
    "\n",
    "# Calculate the values of y for different x values\n",
    "for x_value in range(-10, 11):\n",
    "    y_value = x_value**2 + 6*x_value + 9\n",
    "    print(f\"For x = {x_value}, y = {y_value}\")\n",
    "\n",
    "# Find the x value when y is equal to 0 (using the factored form)\n",
    "x_value_for_y_0 = -3\n",
    "print(f\"\\nFor y = 0, x = {x_value_for_y_0}\")\n"
   ]
  },
  {
   "cell_type": "markdown",
   "metadata": {},
   "source": [
    "#### Find the length of 'python' and 'dragon' and make a falsy comparison statement.\n"
   ]
  },
  {
   "cell_type": "code",
   "execution_count": 11,
   "metadata": {},
   "outputs": [
    {
     "name": "stdout",
     "output_type": "stream",
     "text": [
      "Length of 'python': 6\n",
      "Length of 'dragon': 6\n",
      "Falsy Comparison: True\n"
     ]
    }
   ],
   "source": [
    "# Strings\n",
    "string1 = 'python'\n",
    "string2 = 'dragon'\n",
    "\n",
    "# Find the length of the strings\n",
    "length_string1 = len(string1)\n",
    "length_string2 = len(string2)\n",
    "\n",
    "# Make a falsy comparison statement\n",
    "falsy_comparison = length_string1 == length_string2\n",
    "\n",
    "# Display the lengths and the falsy comparison result\n",
    "print(f\"Length of '{string1}': {length_string1}\")\n",
    "print(f\"Length of '{string2}': {length_string2}\")\n",
    "print(\"Falsy Comparison:\", falsy_comparison)\n"
   ]
  },
  {
   "cell_type": "markdown",
   "metadata": {},
   "source": [
    "#### Use and operator to check if 'on' is found in both 'python' and 'dragon'"
   ]
  },
  {
   "cell_type": "code",
   "execution_count": 12,
   "metadata": {},
   "outputs": [
    {
     "name": "stdout",
     "output_type": "stream",
     "text": [
      "Both strings contain 'on': True\n"
     ]
    }
   ],
   "source": [
    "# Strings\n",
    "string1 = 'python'\n",
    "string2 = 'dragon'\n",
    "\n",
    "# Check if 'on' is found in both strings using the 'and' operator\n",
    "both_contain_on = 'on' in string1 and 'on' in string2\n",
    "\n",
    "# Display the result\n",
    "print(\"Both strings contain 'on':\", both_contain_on)\n"
   ]
  },
  {
   "cell_type": "markdown",
   "metadata": {},
   "source": [
    "#### I hope this course is not full of jargon. Use in operator to check if jargon is in the sentence."
   ]
  },
  {
   "cell_type": "code",
   "execution_count": 13,
   "metadata": {},
   "outputs": [
    {
     "name": "stdout",
     "output_type": "stream",
     "text": [
      "The word 'jargon' is in the sentence: True\n"
     ]
    }
   ],
   "source": [
    "# Given sentence\n",
    "sentence = \"I hope this course is not full of jargon.\"\n",
    "\n",
    "# Check if 'jargon' is in the sentence\n",
    "jargon_in_sentence = 'jargon' in sentence\n",
    "\n",
    "# Display the result\n",
    "print(\"The word 'jargon' is in the sentence:\", jargon_in_sentence)\n"
   ]
  },
  {
   "cell_type": "markdown",
   "metadata": {},
   "source": [
    "#### There is no 'on' in both dragon and python"
   ]
  },
  {
   "cell_type": "code",
   "execution_count": 14,
   "metadata": {},
   "outputs": [
    {
     "name": "stdout",
     "output_type": "stream",
     "text": [
      "No 'on' in both strings: False\n"
     ]
    }
   ],
   "source": [
    "# Strings\n",
    "string1 = 'python'\n",
    "string2 = 'dragon'\n",
    "\n",
    "# Check if 'on' is not found in both strings using the 'not in' operator\n",
    "no_on_in_both = 'on' not in string1 and 'on' not in string2\n",
    "\n",
    "# Display the result\n",
    "print(\"No 'on' in both strings:\", no_on_in_both)\n"
   ]
  },
  {
   "cell_type": "markdown",
   "metadata": {},
   "source": [
    "#### Find the length of the text python and convert the value to float and convert it to string"
   ]
  },
  {
   "cell_type": "code",
   "execution_count": 15,
   "metadata": {},
   "outputs": [
    {
     "name": "stdout",
     "output_type": "stream",
     "text": [
      "Length of the text 'python': 6\n",
      "Length as float: 6.0\n",
      "Length as string: 6.0\n"
     ]
    }
   ],
   "source": [
    "# Given text\n",
    "text = 'python'\n",
    "\n",
    "# Find the length of the text\n",
    "length_of_text = len(text)\n",
    "\n",
    "# Convert the length to a float\n",
    "float_length = float(length_of_text)\n",
    "\n",
    "# Convert the float to a string\n",
    "string_length = str(float_length)\n",
    "\n",
    "# Display the results\n",
    "print(\"Length of the text 'python':\", length_of_text)\n",
    "print(\"Length as float:\", float_length)\n",
    "print(\"Length as string:\", string_length)\n"
   ]
  },
  {
   "cell_type": "markdown",
   "metadata": {},
   "source": [
    "#### Even numbers are divisible by 2 and the remainder is zero. How do you check if a number is even or not using python?\n"
   ]
  },
  {
   "cell_type": "code",
   "execution_count": 16,
   "metadata": {},
   "outputs": [
    {
     "name": "stdout",
     "output_type": "stream",
     "text": [
      "10 is an even number.\n"
     ]
    }
   ],
   "source": [
    "# Example number\n",
    "number = 10\n",
    "\n",
    "# Check if the number is even\n",
    "is_even = number % 2 == 0\n",
    "\n",
    "# Display the result\n",
    "if is_even:\n",
    "    print(f\"{number} is an even number.\")\n",
    "else:\n",
    "    print(f\"{number} is not an even number.\")\n"
   ]
  },
  {
   "cell_type": "markdown",
   "metadata": {},
   "source": [
    "#### Check if the floor division of 7 by 3 is equal to the int converted value of 2.7."
   ]
  },
  {
   "cell_type": "code",
   "execution_count": null,
   "metadata": {},
   "outputs": [],
   "source": [
    "# Floor division of 7 by 3\n",
    "floor_division_result = 7 // 3\n",
    "\n",
    "# Integer-converted value of 2.7\n",
    "int_of_2_7 = int(2.7)\n",
    "\n",
    "# Check if the floor division result is equal to the integer-converted value\n",
    "is_equal = floor_division_result == int_of_2_7\n",
    "\n",
    "# Display the results\n",
    "print(f\"Floor division of 7 by 3: {floor_division_result}\")\n",
    "print(f\"Integer-converted value of 2.7: {int_of_2_7}\")\n",
    "print(\"Are they equal?\", is_equal)\n"
   ]
  },
  {
   "cell_type": "markdown",
   "metadata": {},
   "source": [
    "#### Check if type of '10' is equal to type of 10"
   ]
  },
  {
   "cell_type": "code",
   "execution_count": 18,
   "metadata": {},
   "outputs": [
    {
     "name": "stdout",
     "output_type": "stream",
     "text": [
      "Are '10' and 10 equal? False\n"
     ]
    }
   ],
   "source": [
    "# Check if the type of '10' is equal to the type of 10\n",
    "is_type_equal = type('10') == type(10)\n",
    "\n",
    "# Display the result\n",
    "print(\"Are '10' and 10 equal?\", is_type_equal)\n"
   ]
  },
  {
   "cell_type": "markdown",
   "metadata": {},
   "source": [
    "#### Check if int('9.8') is equal to 10"
   ]
  },
  {
   "cell_type": "code",
   "execution_count": 19,
   "metadata": {},
   "outputs": [
    {
     "name": "stdout",
     "output_type": "stream",
     "text": [
      "Is '9.8' (as a float) equal to 10? False\n"
     ]
    }
   ],
   "source": [
    "# Attempt to convert '9.8' to a float\n",
    "try:\n",
    "    float_value = float('9.8')\n",
    "except ValueError:\n",
    "    float_value = None\n",
    "\n",
    "# Check if the float value is equal to 10\n",
    "is_equal_to_10 = float_value == 10 if float_value is not None else False\n",
    "\n",
    "# Display the result\n",
    "print(\"Is '9.8' (as a float) equal to 10?\", is_equal_to_10)\n"
   ]
  },
  {
   "cell_type": "markdown",
   "metadata": {},
   "source": [
    "#### Writ a script that prompts the user to enter hours and rate per hour. Calculate pay of the person?"
   ]
  },
  {
   "cell_type": "code",
   "execution_count": 20,
   "metadata": {},
   "outputs": [
    {
     "name": "stdout",
     "output_type": "stream",
     "text": [
      "The pay for 40.0 hours at a rate of 28.0 per hour is: 1120.0\n"
     ]
    }
   ],
   "source": [
    "# Prompt the user to enter hours worked and rate per hour\n",
    "hours_worked = float(input(\"Enter the number of hours worked: \"))\n",
    "rate_per_hour = float(input(\"Enter the rate per hour: \"))\n",
    "\n",
    "# Calculate the pay\n",
    "pay = hours_worked * rate_per_hour\n",
    "\n",
    "# Display the calculated pay\n",
    "print(f\"The pay for {hours_worked} hours at a rate of {rate_per_hour} per hour is: {pay}\")\n"
   ]
  },
  {
   "cell_type": "markdown",
   "metadata": {},
   "source": [
    "#### Write a script that prompts the user to enter number of years. Calculate the number of seconds a person can live. Assume a person can live hundred years"
   ]
  },
  {
   "cell_type": "code",
   "execution_count": 22,
   "metadata": {},
   "outputs": [
    {
     "name": "stdout",
     "output_type": "stream",
     "text": [
      "A person can live approximately 3,153,600,000 seconds in 100 years\n"
     ]
    }
   ],
   "source": [
    "# Prompt the user to enter the number of years\n",
    "years = int(input(\"Enter the number of years: \"))\n",
    "\n",
    "# Calculate the number of seconds a person can live\n",
    "seconds_per_minute = 60\n",
    "minutes_per_hour = 60\n",
    "hours_per_day = 24\n",
    "days_per_year = 365\n",
    "\n",
    "# Assuming a person can live for a hundred years\n",
    "max_years = 100\n",
    "total_seconds = years * days_per_year * hours_per_day * minutes_per_hour * seconds_per_minute\n",
    "\n",
    "# Display the calculated result\n",
    "print(f\"A person can live approximately {total_seconds:,} seconds in {years} years\")\n"
   ]
  },
  {
   "cell_type": "markdown",
   "metadata": {},
   "source": [
    "#### Write a Python script that displays the following table: 1 1 1 1 1, 2 1 2 4 8, 3 1 3 9 27, 4 1 4 16 64, 5 1 5 25 125"
   ]
  },
  {
   "cell_type": "code",
   "execution_count": 23,
   "metadata": {},
   "outputs": [
    {
     "name": "stdout",
     "output_type": "stream",
     "text": [
      " 1  1  1  1  1\n",
      " 2  1  2  4  8\n",
      " 3  1  3  9 27\n",
      " 4  1  4 16 64\n",
      " 5  1  5 25 125\n"
     ]
    }
   ],
   "source": [
    "# Display the table\n",
    "print(\" 1  1  1  1  1\")\n",
    "print(\" 2  1  2  4  8\")\n",
    "print(\" 3  1  3  9 27\")\n",
    "print(\" 4  1  4 16 64\")\n",
    "print(\" 5  1  5 25 125\")\n"
   ]
  }
 ],
 "metadata": {
  "kernelspec": {
   "display_name": "base",
   "language": "python",
   "name": "python3"
  },
  "language_info": {
   "codemirror_mode": {
    "name": "ipython",
    "version": 3
   },
   "file_extension": ".py",
   "mimetype": "text/x-python",
   "name": "python",
   "nbconvert_exporter": "python",
   "pygments_lexer": "ipython3",
   "version": "3.11.7"
  }
 },
 "nbformat": 4,
 "nbformat_minor": 2
}
