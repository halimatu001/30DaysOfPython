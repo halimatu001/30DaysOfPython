{
 "cells": [
  {
   "cell_type": "markdown",
   "metadata": {},
   "source": [
    "### Concatenate the string 'Thirty', 'Days', 'Of', 'Python' to a single string, 'Thirty Days Of Python'. and Concatenate the string 'Coding', 'For' , 'All' to a single string, 'Coding For All'."
   ]
  },
  {
   "cell_type": "code",
   "execution_count": 1,
   "metadata": {},
   "outputs": [
    {
     "name": "stdout",
     "output_type": "stream",
     "text": [
      "Concatenated String 1: Thirty Days Of Python\n",
      "Concatenated String 2: Coding For All\n"
     ]
    }
   ],
   "source": [
    "# Concatenate 'Thirty', 'Days', 'Of', 'Python'\n",
    "challenge_a = 'Thirty' + ' ' + 'Days' + ' ' + 'Of' + ' ' + 'Python'\n",
    "\n",
    "# Concatenate 'Coding', 'For', 'All'\n",
    "challenge_b = 'Coding' + ' ' + 'For' + ' ' + 'All'\n",
    "\n",
    "# Display the results\n",
    "print(\"Concatenated String 1:\", challenge_a)\n",
    "print(\"Concatenated String 2:\", challenge_b)\n"
   ]
  },
  {
   "cell_type": "markdown",
   "metadata": {},
   "source": [
    "#### 3. Declare a variable named company and assign it to an initial value \"Coding For All\"  4. Print the variable company using print()  5. rint the length of the company string using len() method and print()  6. Change all the characters to uppercase letters using upper() method  7.Change all the characters to lowercase letters using lower() method   8.Use capitalize(), title(), swapcase() methods to format the value of the string Coding For All  9.Cut(slice) out the first word of Coding For All string   10.Check if Coding For All string contains a word Coding using the method index, find or other methods   11.Replace the word coding in the string 'Coding For All' to Python   12. Change Python for Everyone to Python for All using the replace method or other methods   13.Split the string 'Coding For All' using space as the separator (split()) .\n"
   ]
  },
  {
   "cell_type": "code",
   "execution_count": 3,
   "metadata": {},
   "outputs": [
    {
     "name": "stdout",
     "output_type": "stream",
     "text": [
      "Company: Coding For All\n",
      "Length of company: 14\n",
      "Uppercase: CODING FOR ALL\n",
      "Lowercase: coding for all\n",
      "Capitalized: Coding for all\n",
      "Title Case: Coding For All\n",
      "Swap Case: cODING fOR aLL\n",
      "Sliced Company: Coding\n",
      "Contains 'Coding': True\n",
      "Replaced Company: Python For All\n",
      "Changed String: Python for All\n",
      "Split Company: ['Coding', 'For', 'All']\n"
     ]
    }
   ],
   "source": [
    "# Declare a variable named company and assign it to an initial value \"Coding For All\"\n",
    "company = \"Coding For All\"\n",
    "\n",
    "# Print the variable company\n",
    "print(\"Company:\", company)\n",
    "\n",
    "# Print the length of the company string\n",
    "print(\"Length of company:\", len(company))\n",
    "\n",
    "# Change all the characters to uppercase letters\n",
    "uppercase_company = company.upper()\n",
    "print(\"Uppercase:\", uppercase_company)\n",
    "\n",
    "# Change all the characters to lowercase letters\n",
    "lowercase_company = company.lower()\n",
    "print(\"Lowercase:\", lowercase_company)\n",
    "\n",
    "# Use capitalize(), title(), swapcase() methods to format the value of the string\n",
    "capitalized_company = company.capitalize()\n",
    "title_case_company = company.title()\n",
    "swapcase_company = company.swapcase()\n",
    "\n",
    "print(\"Capitalized:\", capitalized_company)\n",
    "print(\"Title Case:\", title_case_company)\n",
    "print(\"Swap Case:\", swapcase_company)\n",
    "\n",
    "# Cut (slice) out the first word of the string\n",
    "sliced_company = company.split()[0]\n",
    "print(\"Sliced Company:\", sliced_company)\n",
    "\n",
    "# Check if the string contains a word 'Coding'\n",
    "contains_coding = 'Coding' in company\n",
    "print(\"Contains 'Coding':\", contains_coding)\n",
    "\n",
    "# Replace the word 'Coding' with 'Python'\n",
    "replaced_company = company.replace('Coding', 'Python')\n",
    "print(\"Replaced Company:\", replaced_company)\n",
    "\n",
    "# Change 'Python for Everyone' to 'Python for All'\n",
    "changed_string = \"Python for Everyone\"\n",
    "changed_all = changed_string.replace(\"Everyone\", \"All\")\n",
    "print(\"Changed String:\", changed_all)\n",
    "\n",
    "# Split the string 'Coding For All' using space as the separator\n",
    "split_company = company.split()\n",
    "print(\"Split Company:\", split_company)\n"
   ]
  },
  {
   "cell_type": "markdown",
   "metadata": {},
   "source": [
    "#### \"Facebook, Google, Microsoft, Apple, IBM, Oracle, Amazon\" split the string at the comma.\n"
   ]
  },
  {
   "cell_type": "code",
   "execution_count": 4,
   "metadata": {},
   "outputs": [
    {
     "name": "stdout",
     "output_type": "stream",
     "text": [
      "Split Companies: ['Facebook', 'Google', 'Microsoft', 'Apple', 'IBM', 'Oracle', 'Amazon']\n"
     ]
    }
   ],
   "source": [
    "# Given string\n",
    "tech_companies = \"Facebook, Google, Microsoft, Apple, IBM, Oracle, Amazon\"\n",
    "\n",
    "# Split the string at the comma\n",
    "split_companies = tech_companies.split(', ')\n",
    "\n",
    "# Display the result\n",
    "print(\"Split Companies:\", split_companies)\n"
   ]
  },
  {
   "cell_type": "markdown",
   "metadata": {},
   "source": [
    "#### 15.What is the character at index 0 in the string Coding For All   16. What is the last index of the string Coding For All     17. What character is at index 10 in \"Coding For All\" string.\n"
   ]
  },
  {
   "cell_type": "code",
   "execution_count": 5,
   "metadata": {},
   "outputs": [
    {
     "name": "stdout",
     "output_type": "stream",
     "text": [
      "Character at index 0: C\n",
      "Last index of the string: 13\n",
      "Character at index 10:  \n"
     ]
    }
   ],
   "source": [
    "# Given string\n",
    "coding_for_all = \"Coding For All\"\n",
    "\n",
    "# Character at index 0\n",
    "character_at_index_0 = coding_for_all[0]\n",
    "\n",
    "# Last index of the string\n",
    "last_index = len(coding_for_all) - 1\n",
    "\n",
    "# Character at index 10\n",
    "character_at_index_10 = coding_for_all[10]\n",
    "\n",
    "# Display the results\n",
    "print(\"Character at index 0:\", character_at_index_0)\n",
    "print(\"Last index of the string:\", last_index)\n",
    "print(\"Character at index 10:\", character_at_index_10)\n"
   ]
  },
  {
   "cell_type": "markdown",
   "metadata": {},
   "source": [
    "#### Create an acronym or an abbreviation for the name 'Python For Everyone'.\n"
   ]
  },
  {
   "cell_type": "code",
   "execution_count": 6,
   "metadata": {},
   "outputs": [
    {
     "name": "stdout",
     "output_type": "stream",
     "text": [
      "Acronym: PFE\n"
     ]
    }
   ],
   "source": [
    "# Given name\n",
    "name = \"Python For Everyone\"\n",
    "\n",
    "# Create an acronym\n",
    "acronym = \"\".join(word[0].upper() for word in name.split())\n",
    "\n",
    "# Display the acronym\n",
    "print(\"Acronym:\", acronym)\n"
   ]
  },
  {
   "cell_type": "markdown",
   "metadata": {},
   "source": [
    "#### Create an acronym or an abbreviation for the name 'Coding For All'"
   ]
  },
  {
   "cell_type": "code",
   "execution_count": 7,
   "metadata": {},
   "outputs": [
    {
     "name": "stdout",
     "output_type": "stream",
     "text": [
      "Acronym: CFA\n"
     ]
    }
   ],
   "source": [
    "# Given name\n",
    "name = \"Coding For All\"\n",
    "\n",
    "# Create an acronym\n",
    "acronym = \"\".join(word[0].upper() for word in name.split())\n",
    "\n",
    "# Display the acronym\n",
    "print(\"Acronym:\", acronym)\n"
   ]
  },
  {
   "cell_type": "markdown",
   "metadata": {},
   "source": [
    "####   20. Use index to determine the position of the first occurrence of C in Coding For All   21.Use index to determine the position of the first occurrence of F in Coding For All    22.Use rfind to determine the position of the last occurrence of l in Coding For All People."
   ]
  },
  {
   "cell_type": "code",
   "execution_count": 8,
   "metadata": {},
   "outputs": [
    {
     "name": "stdout",
     "output_type": "stream",
     "text": [
      "Position of the first occurrence of C: 0\n",
      "Position of the first occurrence of F: 7\n",
      "Position of the last occurrence of l: 19\n"
     ]
    }
   ],
   "source": [
    "# Given strings\n",
    "coding_for_all = \"Coding For All\"\n",
    "coding_for_all_people = \"Coding For All People\"\n",
    "\n",
    "# Use index to determine the position of the first occurrence of C in Coding For All\n",
    "first_c_position = coding_for_all.index('C')\n",
    "\n",
    "# Use index to determine the position of the first occurrence of F in Coding For All\n",
    "first_f_position = coding_for_all.index('F')\n",
    "\n",
    "# Use rfind to determine the position of the last occurrence of l in Coding For All People\n",
    "last_l_position = coding_for_all_people.rfind('l')\n",
    "\n",
    "# Display the results\n",
    "print(\"Position of the first occurrence of C:\", first_c_position)\n",
    "print(\"Position of the first occurrence of F:\", first_f_position)\n",
    "print(\"Position of the last occurrence of l:\", last_l_position)\n"
   ]
  },
  {
   "cell_type": "markdown",
   "metadata": {},
   "source": [
    "#### QUESTION 23, 24, 25, 26 and 27"
   ]
  },
  {
   "cell_type": "code",
   "execution_count": 10,
   "metadata": {},
   "outputs": [
    {
     "name": "stdout",
     "output_type": "stream",
     "text": [
      "Position of the first occurrence of 'because': 31\n",
      "Position of the last occurrence of 'because': 47\n",
      "Sliced phrase 'because because because': because because because\n",
      "Position of the first occurrence of 'because' : 31\n",
      "Sliced phrase 'because because because' : because because because\n"
     ]
    }
   ],
   "source": [
    "# Given sentence\n",
    "sentence = 'You cannot end a sentence with because because because is a conjunction'\n",
    "\n",
    "# Use index or find to find the position of the first occurrence of the word 'because'\n",
    "first_because_position = sentence.find('because')\n",
    "\n",
    "# Use rindex to find the position of the last occurrence of the word 'because'\n",
    "last_because_position = sentence.rindex('because')\n",
    "\n",
    "# Slice out the phrase 'because because because'\n",
    "because_phrase_slice = sentence[first_because_position:last_because_position + len('because')]\n",
    "\n",
    "# Find the position of the first occurrence of the word 'because'\n",
    "first_occurrence_position = sentence.index('because')\n",
    "\n",
    "# Slice out the phrase 'because because because'\n",
    "because_phrase_slice_2 = sentence[first_occurrence_position:first_occurrence_position + len('because because because')]\n",
    "\n",
    "# Display the results\n",
    "print(\"Position of the first occurrence of 'because':\", first_because_position)\n",
    "print(\"Position of the last occurrence of 'because':\", last_because_position)\n",
    "print(\"Sliced phrase 'because because because':\", because_phrase_slice)\n",
    "print(\"Position of the first occurrence of 'because' :\", first_occurrence_position)\n",
    "print(\"Sliced phrase 'because because because' :\", because_phrase_slice_2)\n"
   ]
  },
  {
   "cell_type": "markdown",
   "metadata": {},
   "source": [
    "#### QUESTION 28, 29, 30"
   ]
  },
  {
   "cell_type": "code",
   "execution_count": 11,
   "metadata": {},
   "outputs": [
    {
     "name": "stdout",
     "output_type": "stream",
     "text": [
      "Does 'Coding For All' start with 'Coding'? True\n",
      "Does 'Coding For All' end with 'coding'? False\n",
      "Trimmed String: Coding For All\n"
     ]
    }
   ],
   "source": [
    "# Given strings\n",
    "string1 = 'Coding For All'\n",
    "string2 = '   Coding For All      '\n",
    "\n",
    "# Check if 'Coding For All' starts with the substring 'Coding'\n",
    "starts_with_coding = string1.startswith('Coding')\n",
    "\n",
    "# Check if 'Coding For All' ends with the substring 'coding'\n",
    "ends_with_coding = string1.endswith('coding')\n",
    "\n",
    "# Remove the left and right trailing spaces in '   Coding For All      '\n",
    "trimmed_string = string2.strip()\n",
    "\n",
    "# Display the results\n",
    "print(\"Does 'Coding For All' start with 'Coding'?\", starts_with_coding)\n",
    "print(\"Does 'Coding For All' end with 'coding'?\", ends_with_coding)\n",
    "print(\"Trimmed String:\", trimmed_string)\n"
   ]
  },
  {
   "cell_type": "markdown",
   "metadata": {},
   "source": [
    "#### QUESTION 31"
   ]
  },
  {
   "cell_type": "code",
   "execution_count": 12,
   "metadata": {},
   "outputs": [
    {
     "name": "stdout",
     "output_type": "stream",
     "text": [
      "Is '30DaysOfPython' a valid identifier? False\n",
      "Is 'thirty_days_of_python' a valid identifier? True\n"
     ]
    }
   ],
   "source": [
    "# identifier_check.py\n",
    "\n",
    "# Variables\n",
    "variable1 = '30DaysOfPython'\n",
    "variable2 = 'thirty_days_of_python'\n",
    "\n",
    "# Check isidentifier() for each variable\n",
    "result1 = variable1.isidentifier()\n",
    "result2 = variable2.isidentifier()\n",
    "\n",
    "# Display the results\n",
    "print(f\"Is '{variable1}' a valid identifier? {result1}\")\n",
    "print(f\"Is '{variable2}' a valid identifier? {result2}\")\n"
   ]
  },
  {
   "cell_type": "markdown",
   "metadata": {},
   "source": [
    "####  QUESTION 32"
   ]
  },
  {
   "cell_type": "code",
   "execution_count": 13,
   "metadata": {},
   "outputs": [
    {
     "name": "stdout",
     "output_type": "stream",
     "text": [
      "Joined String: Django # Flask # Bottle # Pyramid # Falcon\n"
     ]
    }
   ],
   "source": [
    "# List of Python libraries\n",
    "python_libraries = ['Django', 'Flask', 'Bottle', 'Pyramid', 'Falcon']\n",
    "\n",
    "# Join the list with a hash with space string\n",
    "joined_string = ' # '.join(python_libraries)\n",
    "\n",
    "# Display the result\n",
    "print(\"Joined String:\", joined_string)\n"
   ]
  },
  {
   "cell_type": "markdown",
   "metadata": {},
   "source": [
    "#### QUESTION 33"
   ]
  },
  {
   "cell_type": "code",
   "execution_count": 14,
   "metadata": {},
   "outputs": [
    {
     "name": "stdout",
     "output_type": "stream",
     "text": [
      "Combined Text:\n",
      "I am enjoying this challenge.\n",
      "I just wonder what is next.\n"
     ]
    }
   ],
   "source": [
    "# Sentences\n",
    "sentence1 = \"I am enjoying this challenge.\"\n",
    "sentence2 = \"I just wonder what is next.\"\n",
    "\n",
    "# Combine sentences with newline\n",
    "combined_text = f\"{sentence1}\\n{sentence2}\"\n",
    "\n",
    "# Display the result\n",
    "print(\"Combined Text:\")\n",
    "print(combined_text)\n"
   ]
  },
  {
   "cell_type": "markdown",
   "metadata": {},
   "source": [
    "#### 34"
   ]
  },
  {
   "cell_type": "code",
   "execution_count": 15,
   "metadata": {},
   "outputs": [
    {
     "name": "stdout",
     "output_type": "stream",
     "text": [
      "Combined Table:\n",
      "Name\tAge\tCountry\tCity\n",
      "Asabeneh\t250\tFinland\tHelsinki\n"
     ]
    }
   ],
   "source": [
    "# Table lines\n",
    "table_line1 = \"Name\\tAge\\tCountry\\tCity\"\n",
    "table_line2 = \"Asabeneh\\t250\\tFinland\\tHelsinki\"\n",
    "\n",
    "# Combine lines with tabs\n",
    "combined_table = f\"{table_line1}\\n{table_line2}\"\n",
    "\n",
    "# Display the result\n",
    "print(\"Combined Table:\")\n",
    "print(combined_table)\n"
   ]
  },
  {
   "cell_type": "markdown",
   "metadata": {},
   "source": [
    "#### QUESTION 35"
   ]
  },
  {
   "cell_type": "code",
   "execution_count": 16,
   "metadata": {},
   "outputs": [
    {
     "name": "stdout",
     "output_type": "stream",
     "text": [
      "The area of a circle with radius 10 is 314.0 meters square.\n"
     ]
    }
   ],
   "source": [
    "# Given values\n",
    "radius = 10\n",
    "area = 3.14 * radius ** 2\n",
    "\n",
    "# f-string formatting\n",
    "result_string = f\"The area of a circle with radius {radius} is {area} meters square.\"\n",
    "\n",
    "# Display the result\n",
    "print(result_string)\n"
   ]
  },
  {
   "cell_type": "markdown",
   "metadata": {},
   "source": [
    "#### QUESTION 36"
   ]
  },
  {
   "cell_type": "code",
   "execution_count": 17,
   "metadata": {},
   "outputs": [
    {
     "name": "stdout",
     "output_type": "stream",
     "text": [
      "8 + 6 = 14\n",
      "8 - 6 = 2\n",
      "8 * 6 = 48\n",
      "8 / 6 = 1.33\n",
      "8 % 6 = 2\n",
      "8 // 6 = 1\n",
      "8 ** 6 = 262144\n"
     ]
    }
   ],
   "source": [
    "# Given values\n",
    "a = 8\n",
    "b = 6\n",
    "\n",
    "# String formatting for various expressions\n",
    "addition_result = \"{} + {} = {}\".format(a, b, a + b)\n",
    "subtraction_result = \"{} - {} = {}\".format(a, b, a - b)\n",
    "multiplication_result = \"{} * {} = {}\".format(a, b, a * b)\n",
    "division_result = \"{} / {} = {:.2f}\".format(a, b, a / b)\n",
    "modulo_result = \"{} % {} = {}\".format(a, b, a % b)\n",
    "floor_division_result = \"{} // {} = {}\".format(a, b, a // b)\n",
    "exponential_result = \"{} ** {} = {}\".format(a, b, a ** b)\n",
    "\n",
    "# Display the results\n",
    "print(addition_result)\n",
    "print(subtraction_result)\n",
    "print(multiplication_result)\n",
    "print(division_result)\n",
    "print(modulo_result)\n",
    "print(floor_division_result)\n",
    "print(exponential_result)\n"
   ]
  }
 ],
 "metadata": {
  "kernelspec": {
   "display_name": "base",
   "language": "python",
   "name": "python3"
  },
  "language_info": {
   "codemirror_mode": {
    "name": "ipython",
    "version": 3
   },
   "file_extension": ".py",
   "mimetype": "text/x-python",
   "name": "python",
   "nbconvert_exporter": "python",
   "pygments_lexer": "ipython3",
   "version": "3.11.7"
  }
 },
 "nbformat": 4,
 "nbformat_minor": 2
}
