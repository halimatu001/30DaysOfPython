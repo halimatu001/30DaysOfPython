{
 "cells": [
  {
   "cell_type": "markdown",
   "metadata": {},
   "source": [
    "### EXERCISE LEVEL 1"
   ]
  },
  {
   "cell_type": "code",
   "execution_count": 1,
   "metadata": {},
   "outputs": [
    {
     "name": "stdout",
     "output_type": "stream",
     "text": [
      "Empty Tuple: ()\n",
      "Sisters Tuple: ('Rashida', 'Fatima', 'Zainab')\n",
      "Brothers Tuple: ('Umar', 'Muhammad', 'Abubakar')\n",
      "Joined Siblings Tuple: ('Umar', 'Muhammad', 'Abubakar', 'Rashida', 'Fatima', 'Zainab')\n",
      "Number of Siblings: 6\n",
      "Family Members Tuple: ('Mahmoud', 'Aisha', 'Umar', 'Muhammad', 'Abubakar', 'Rashida', 'Fatima', 'Zainab')\n"
     ]
    }
   ],
   "source": [
    "# Create an empty tuple\n",
    "empty_tuple = ()\n",
    "\n",
    "# Create a tuple containing names of sisters and brothers\n",
    "sisters = ('Rashida', 'Fatima', 'Zainab')\n",
    "brothers = ('Umar', 'Muhammad', 'Abubakar' )\n",
    "\n",
    "# Join brothers and sisters tuples and assign it to siblings\n",
    "siblings = brothers + sisters\n",
    "\n",
    "# How many siblings do you have?\n",
    "num_siblings = len(siblings)\n",
    "\n",
    "# Modify the siblings tuple and add the name of your father and mother\n",
    "family_members = ('Mahmoud', 'Aisha') + siblings\n",
    "\n",
    "# Display the results\n",
    "print(\"Empty Tuple:\", empty_tuple)\n",
    "print(\"Sisters Tuple:\", sisters)\n",
    "print(\"Brothers Tuple:\", brothers)\n",
    "print(\"Joined Siblings Tuple:\", siblings)\n",
    "print(\"Number of Siblings:\", num_siblings)\n",
    "print(\"Family Members Tuple:\", family_members)\n"
   ]
  },
  {
   "cell_type": "markdown",
   "metadata": {},
   "source": [
    "### EXERCISE LEVEL 2"
   ]
  },
  {
   "cell_type": "code",
   "execution_count": 2,
   "metadata": {},
   "outputs": [
    {
     "name": "stdout",
     "output_type": "stream",
     "text": [
      "Father: Mahmoud\n",
      "Mother: Aisha\n",
      "Siblings: ['Umar', 'Muhammad', 'Abubakar', 'Rashida', 'Fatima', 'Zainab']\n"
     ]
    }
   ],
   "source": [
    "# Given family_members tuple\n",
    "family_members = ('Mahmoud', 'Aisha', 'Umar', 'Muhammad', 'Abubakar', 'Rashida', 'Fatima', 'Zainab')\n",
    "\n",
    "# Unpack siblings and parents\n",
    "father, mother, *siblings = family_members\n",
    "\n",
    "# Display the results\n",
    "print(\"Father:\", father)\n",
    "print(\"Mother:\", mother)\n",
    "print(\"Siblings:\", siblings)\n"
   ]
  },
  {
   "cell_type": "code",
   "execution_count": 6,
   "metadata": {},
   "outputs": [
    {
     "name": "stdout",
     "output_type": "stream",
     "text": [
      "food_stuff_tp Tuple: ('Mango', 'Banana', 'Orange', 'Cabbage', 'Lettuce', 'Spinach', 'Eggs', 'Milk', 'Beef')\n",
      "food_stuff_lt List: ['Mango', 'Banana', 'Orange', 'Cabbage', 'Lettuce', 'Spinach', 'Eggs', 'Milk', 'Beef']\n",
      "Middle Item from Tuple: Lettuce\n",
      "Middle Items from List: Lettuce\n",
      "First Three Items from List: ['Mango', 'Banana', 'Orange']\n",
      "Last Three Items from List: ['Eggs', 'Milk', 'Beef']\n"
     ]
    }
   ],
   "source": [
    "# Create fruits, vegetables, and animal products tuples\n",
    "fruits = ('Mango', 'Banana', 'Orange')\n",
    "vegetables = ('Cabbage', 'Lettuce', 'Spinach')\n",
    "animal_products = ('Eggs', 'Milk', 'Beef')\n",
    "\n",
    "# Join the three tuples\n",
    "food_stuff_tp = fruits + vegetables + animal_products\n",
    "\n",
    "# Change the food_stuff_tp tuple to a list\n",
    "food_stuff_lt = list(food_stuff_tp)\n",
    "\n",
    "# Slice out the middle item or items from the tuples or lists\n",
    "middle_item_tp = food_stuff_tp[len(food_stuff_tp)//2]\n",
    "middle_items_lt = food_stuff_lt[len(food_stuff_lt)//2]\n",
    "\n",
    "# Slice out the first three items and the last three items from the list\n",
    "first_three_items_lt = food_stuff_lt[:3]\n",
    "last_three_items_lt = food_stuff_lt[-3:]\n",
    "\n",
    "\n",
    "\n",
    "\n",
    "# Display the results\n",
    "print(\"food_stuff_tp Tuple:\", food_stuff_tp)\n",
    "print(\"food_stuff_lt List:\", food_stuff_lt)\n",
    "print(\"Middle Item from Tuple:\", middle_item_tp)\n",
    "print(\"Middle Items from List:\", middle_items_lt)\n",
    "print(\"First Three Items from List:\", first_three_items_lt)\n",
    "print(\"Last Three Items from List:\", last_three_items_lt)\n",
    "\n"
   ]
  },
  {
   "cell_type": "code",
   "execution_count": 8,
   "metadata": {},
   "outputs": [],
   "source": [
    "# Create fruits, vegetables, and animal products tuples\n",
    "fruits = ('Mango', 'Banana', 'Orange')\n",
    "vegetables = ('Cabbage', 'Lettuce', 'Spinach')\n",
    "animal_products = ('Eggs', 'Milk', 'Beef')\n",
    "\n",
    "# Delete the food_stuff_tp tuple completely\n",
    "del food_stuff_tp"
   ]
  },
  {
   "cell_type": "code",
   "execution_count": 7,
   "metadata": {},
   "outputs": [
    {
     "name": "stdout",
     "output_type": "stream",
     "text": [
      "Does 'Lettuce' exist in the List?: True\n"
     ]
    }
   ],
   "source": [
    "# Create fruits, vegetables, and animal products tuples\n",
    "fruits = ('Mango', 'Banana', 'Orange')\n",
    "vegetables = ('Cabbage', 'Lettuce', 'Spinach')\n",
    "animal_products = ('Eggs', 'Milk', 'Beef')\n",
    "\n",
    "# Check if an item exists in the list\n",
    "item_to_check = 'Lettuce'\n",
    "item_exists = item_to_check in food_stuff_lt\n",
    "print(f\"Does '{item_to_check}' exist in the List?:\", item_exists)"
   ]
  },
  {
   "cell_type": "code",
   "execution_count": 9,
   "metadata": {},
   "outputs": [
    {
     "name": "stdout",
     "output_type": "stream",
     "text": [
      "Is Estonia a Nordic country? False\n",
      "Is Iceland a Nordic country? True\n"
     ]
    }
   ],
   "source": [
    "# Given nordic_countries tuple\n",
    "nordic_countries = ('Denmark', 'Finland', 'Iceland', 'Norway', 'Sweden')\n",
    "\n",
    "# Check if 'Estonia' is a nordic country\n",
    "is_estonia_nordic = 'Estonia' in nordic_countries\n",
    "print(\"Is Estonia a Nordic country?\", is_estonia_nordic)\n",
    "\n",
    "# Check if 'Iceland' is a nordic country\n",
    "is_iceland_nordic = 'Iceland' in nordic_countries\n",
    "print(\"Is Iceland a Nordic country?\", is_iceland_nordic)\n"
   ]
  }
 ],
 "metadata": {
  "kernelspec": {
   "display_name": "base",
   "language": "python",
   "name": "python3"
  },
  "language_info": {
   "codemirror_mode": {
    "name": "ipython",
    "version": 3
   },
   "file_extension": ".py",
   "mimetype": "text/x-python",
   "name": "python",
   "nbconvert_exporter": "python",
   "pygments_lexer": "ipython3",
   "version": "3.11.7"
  }
 },
 "nbformat": 4,
 "nbformat_minor": 2
}
