{
 "cells": [
  {
   "cell_type": "markdown",
   "metadata": {},
   "source": [
    "#### QUESTION 1 and 2"
   ]
  },
  {
   "cell_type": "code",
   "execution_count": 1,
   "metadata": {},
   "outputs": [
    {
     "name": "stdout",
     "output_type": "stream",
     "text": [
      "Dog Dictionary: {'name': 'Bobby', 'color': 'Black', 'breed': 'Police Dog', 'legs': 4, 'age': 3}\n"
     ]
    }
   ],
   "source": [
    "# Create an empty dictionary called dog\n",
    "dog = {}\n",
    "\n",
    "# Add attributes to the dog dictionary\n",
    "dog[\"name\"] = \"Bobby\"\n",
    "dog[\"color\"] = \"Black\"\n",
    "dog[\"breed\"] = \"Police Dog\"\n",
    "dog[\"legs\"] = 4\n",
    "dog[\"age\"] = 3\n",
    "\n",
    "# Display the dog dictionary\n",
    "print(\"Dog Dictionary:\", dog)\n"
   ]
  },
  {
   "cell_type": "code",
   "execution_count": 2,
   "metadata": {},
   "outputs": [
    {
     "name": "stdout",
     "output_type": "stream",
     "text": [
      "Student Dictionary: {'first_name': 'Halima', 'last_name': 'Mahmoud', 'gender': 'Female', 'age': 50, 'marital_status': 'Single', 'skills': ['Python', 'Communcation', 'Catering'], 'country': 'Nigeria', 'city': 'Kano', 'address': 'No. 154 Gandun Albasa'}\n",
      "Length of the student dictionary: 9\n"
     ]
    }
   ],
   "source": [
    "# Create a student dictionary\n",
    "student = {\n",
    "    \"first_name\": \"Halima\",\n",
    "    \"last_name\": \"Mahmoud\",\n",
    "    \"gender\": \"Female\",\n",
    "    \"age\": 50,\n",
    "    \"marital_status\": \"Single\",\n",
    "    \"skills\": [\"Python\", \"Communcation\", \"Catering\"],\n",
    "    \"country\": \"Nigeria\",\n",
    "    \"city\": \"Kano\",\n",
    "    \"address\": \"No. 154 Gandun Albasa\",\n",
    "}\n",
    "\n",
    "# Display the student dictionary\n",
    "print(\"Student Dictionary:\", student)\n",
    "\n",
    "# Get the length of the student dictionary\n",
    "length_of_student_dict = len(student)\n",
    "\n",
    "# Display the length\n",
    "print(\"Length of the student dictionary:\", length_of_student_dict)\n"
   ]
  },
  {
   "cell_type": "code",
   "execution_count": 3,
   "metadata": {},
   "outputs": [
    {
     "name": "stdout",
     "output_type": "stream",
     "text": [
      "Current Skills: ['Python', 'Communcation', 'Catering']\n",
      "Data Type of Skills: <class 'list'>\n",
      "Updated Skills: ['Python', 'Communcation', 'Catering', 'Data Science', 'Machine Learning']\n"
     ]
    }
   ],
   "source": [
    "# Get the value of the \"skills\" key\n",
    "skills_value = student.get(\"skills\")\n",
    "\n",
    "# Check the data type of the \"skills\" value\n",
    "skills_data_type = type(skills_value)\n",
    "\n",
    "# Display the current skills and their data type\n",
    "print(\"Current Skills:\", skills_value)\n",
    "print(\"Data Type of Skills:\", skills_data_type)\n",
    "\n",
    "# Modify the skills values by adding one or two skills\n",
    "new_skills = [\"Data Science\", \"Machine Learning\"]\n",
    "student[\"skills\"].extend(new_skills)\n",
    "\n",
    "# Display the updated skills\n",
    "print(\"Updated Skills:\", student[\"skills\"])\n"
   ]
  },
  {
   "cell_type": "code",
   "execution_count": 4,
   "metadata": {},
   "outputs": [
    {
     "name": "stdout",
     "output_type": "stream",
     "text": [
      "Deleted 'age' from the dictionary.\n",
      "Updated Dictionary: {'first_name': 'Halima', 'last_name': 'Mahmoud', 'gender': 'Female', 'marital_status': 'Single', 'skills': ['Python', 'Communcation', 'Catering', 'Data Science', 'Machine Learning'], 'country': 'Nigeria', 'city': 'Kano', 'address': 'No. 154 Gandun Albasa'}\n"
     ]
    }
   ],
   "source": [
    "# Delete one item in the dictionary\n",
    "key_to_delete = \"age\"\n",
    "if key_to_delete in student:\n",
    "    del student[key_to_delete]\n",
    "    print(f\"Deleted '{key_to_delete}' from the dictionary.\")\n",
    "else:\n",
    "    print(f\"'{key_to_delete}' not found in the dictionary.\")\n",
    "\n",
    "# Display the updated dictionary after deletion\n",
    "print(\"Updated Dictionary:\", student)\n",
    "\n",
    "# Delete the entire dictionary\n",
    "del student\n",
    "# Note: After this point, trying to access 'student' will result in an error since it's deleted.\n",
    "\n",
    "# Attempting to access the deleted dictionary will raise an error\n",
    "# print(\"Trying to access the deleted dictionary:\", student)  # Uncommenting this line will result in an error\n"
   ]
  }
 ],
 "metadata": {
  "kernelspec": {
   "display_name": "base",
   "language": "python",
   "name": "python3"
  },
  "language_info": {
   "codemirror_mode": {
    "name": "ipython",
    "version": 3
   },
   "file_extension": ".py",
   "mimetype": "text/x-python",
   "name": "python",
   "nbconvert_exporter": "python",
   "pygments_lexer": "ipython3",
   "version": "3.11.7"
  }
 },
 "nbformat": 4,
 "nbformat_minor": 2
}
