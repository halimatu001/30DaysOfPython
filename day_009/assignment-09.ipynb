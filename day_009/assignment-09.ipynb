{
 "cells": [
  {
   "cell_type": "markdown",
   "metadata": {},
   "source": [
    "### EXERCISE LEVEL 1"
   ]
  },
  {
   "cell_type": "markdown",
   "metadata": {},
   "source": [
    "#### QUESTION 1"
   ]
  },
  {
   "cell_type": "code",
   "execution_count": 1,
   "metadata": {},
   "outputs": [
    {
     "name": "stdout",
     "output_type": "stream",
     "text": [
      "You are old enough to learn to drive.\n"
     ]
    }
   ],
   "source": [
    "# Get user input for age\n",
    "user_age = int(input(\"Enter your age: \"))\n",
    "\n",
    "# Check if the user is 18 or older\n",
    "if user_age >= 18:\n",
    "    print(\"You are old enough to learn to drive.\")\n",
    "else:\n",
    "    # Calculate the number of years the user needs to wait\n",
    "    years_to_wait = 18 - user_age\n",
    "    print(f\"You need {years_to_wait} more years to learn to drive.\")\n"
   ]
  },
  {
   "cell_type": "markdown",
   "metadata": {},
   "source": [
    "#### QUESTION 2"
   ]
  },
  {
   "cell_type": "code",
   "execution_count": 2,
   "metadata": {},
   "outputs": [
    {
     "name": "stdout",
     "output_type": "stream",
     "text": [
      "You are 5 years older than me.\n"
     ]
    }
   ],
   "source": [
    "# Get user input for my_age and your_age\n",
    "my_age = 25  # Assume my age is 25 for the example\n",
    "your_age = int(input(\"Enter your age: \"))\n",
    "\n",
    "# Compare my_age and your_age\n",
    "if my_age < your_age:\n",
    "    age_difference = your_age - my_age\n",
    "    if age_difference == 1:\n",
    "        print(f\"You are 1 year older than me.\")\n",
    "    else:\n",
    "        print(f\"You are {age_difference} years older than me.\")\n",
    "elif my_age > your_age:\n",
    "    age_difference = my_age - your_age\n",
    "    if age_difference == 1:\n",
    "        print(f\"I am 1 year older than you.\")\n",
    "    else:\n",
    "        print(f\"I am {age_difference} years older than you.\")\n",
    "else:\n",
    "    print(\"We are the same age!\")\n",
    "\n"
   ]
  },
  {
   "cell_type": "markdown",
   "metadata": {},
   "source": [
    "#### QUESTION 2"
   ]
  },
  {
   "cell_type": "code",
   "execution_count": 3,
   "metadata": {},
   "outputs": [
    {
     "name": "stdout",
     "output_type": "stream",
     "text": [
      "4.0 is greater than 3.0\n"
     ]
    }
   ],
   "source": [
    "# Get two numbers from the user\n",
    "a = float(input(\"Enter number one: \"))\n",
    "b = float(input(\"Enter number two: \"))\n",
    "\n",
    "# Compare the numbers and print the result\n",
    "if a > b:\n",
    "    print(f\"{a} is greater than {b}\")\n",
    "elif a < b:\n",
    "    print(f\"{a} is smaller than {b}\")\n",
    "else:\n",
    "    print(f\"{a} is equal to {b}\")\n"
   ]
  },
  {
   "cell_type": "markdown",
   "metadata": {},
   "source": [
    "### EXERCISE LEVEL 2"
   ]
  },
  {
   "cell_type": "markdown",
   "metadata": {},
   "source": [
    "#### QUESTION 1"
   ]
  },
  {
   "cell_type": "code",
   "execution_count": 4,
   "metadata": {},
   "outputs": [
    {
     "name": "stdout",
     "output_type": "stream",
     "text": [
      "The student's grade is: C\n"
     ]
    }
   ],
   "source": [
    "# Get the student's score from the user\n",
    "score = float(input(\"Enter the student's score: \"))\n",
    "\n",
    "# Assign a grade based on the score range\n",
    "if 80 <= score <= 100:\n",
    "    grade = 'A'\n",
    "elif 70 <= score <= 89:\n",
    "    grade = 'B'\n",
    "elif 60 <= score <= 69:\n",
    "    grade = 'C'\n",
    "elif 50 <= score <= 59:\n",
    "    grade = 'D'\n",
    "elif 0 <= score <= 49:\n",
    "    grade = 'F'\n",
    "else:\n",
    "    grade = 'Invalid score'\n",
    "\n",
    "# Print the assigned grade\n",
    "print(f\"The student's grade is: {grade}\")\n"
   ]
  },
  {
   "cell_type": "markdown",
   "metadata": {},
   "source": [
    "#### QUESTION 3"
   ]
  },
  {
   "cell_type": "code",
   "execution_count": 5,
   "metadata": {},
   "outputs": [
    {
     "name": "stdout",
     "output_type": "stream",
     "text": [
      "The season for March is Spring\n"
     ]
    }
   ],
   "source": [
    "# Get the user input for the month\n",
    "month = input(\"Enter the name of the month: \").capitalize()\n",
    "\n",
    "# Check the season based on the month\n",
    "if month in [\"September\", \"October\", \"November\"]:\n",
    "    season = \"Autumn\"\n",
    "elif month in [\"December\", \"January\", \"February\"]:\n",
    "    season = \"Winter\"\n",
    "elif month in [\"March\", \"April\", \"May\"]:\n",
    "    season = \"Spring\"\n",
    "elif month in [\"June\", \"July\", \"August\"]:\n",
    "    season = \"Summer\"\n",
    "else:\n",
    "    season = \"Invalid month\"\n",
    "\n",
    "# Print the determined season\n",
    "print(f\"The season for {month} is {season}\")\n"
   ]
  },
  {
   "cell_type": "code",
   "execution_count": 6,
   "metadata": {},
   "outputs": [
    {
     "name": "stdout",
     "output_type": "stream",
     "text": [
      "Modified list of fruits: ['banana', 'orange', 'mango', 'lemon', 'pawpaw']\n"
     ]
    }
   ],
   "source": [
    "# Initial list of fruits\n",
    "fruits = ['banana', 'orange', 'mango', 'lemon']\n",
    "\n",
    "# Get user input for a new fruit\n",
    "new_fruit = input(\"Enter a fruit: \").lower()  # Convert to lowercase for case-insensitive comparison\n",
    "\n",
    "# Check if the fruit already exists in the list\n",
    "if new_fruit in fruits:\n",
    "    print(\"That fruit already exists in the list.\")\n",
    "else:\n",
    "    # Add the new fruit to the list\n",
    "    fruits.append(new_fruit)\n",
    "    \n",
    "    # Print the modified list\n",
    "    print(\"Modified list of fruits:\", fruits)\n"
   ]
  },
  {
   "cell_type": "markdown",
   "metadata": {},
   "source": [
    "#### QUESTION 4"
   ]
  },
  {
   "cell_type": "code",
   "execution_count": 7,
   "metadata": {},
   "outputs": [
    {
     "name": "stdout",
     "output_type": "stream",
     "text": [
      "Middle skill: Node\n",
      "The person has 'Python' skill.\n",
      "Unknown title\n",
      "Married person living in Finland:\n",
      "Asabeneh Yetayeh lives in Finland and is married.\n",
      "Address: Space street, 02210\n"
     ]
    }
   ],
   "source": [
    "person = {\n",
    "    'first_name': 'Asabeneh',\n",
    "    'last_name': 'Yetayeh',\n",
    "    'age': 250,\n",
    "    'country': 'Finland',\n",
    "    'is_married': True,\n",
    "    'skills': ['JavaScript', 'React', 'Node', 'MongoDB', 'Python'],\n",
    "    'address': {\n",
    "        'street': 'Space street',\n",
    "        'zipcode': '02210'\n",
    "    }\n",
    "}\n",
    "\n",
    "# Check if the person dictionary has a 'skills' key\n",
    "if 'skills' in person:\n",
    "    # Print the middle skill in the skills list\n",
    "    skills = person['skills']\n",
    "    if skills:\n",
    "        middle_skill_index = len(skills) // 2\n",
    "        print(f\"Middle skill: {skills[middle_skill_index]}\")\n",
    "\n",
    "    # Check if the person has 'Python' skill\n",
    "    if 'Python' in skills:\n",
    "        print(\"The person has 'Python' skill.\")\n",
    "\n",
    "    # Check developer title based on skills\n",
    "    if skills == ['JavaScript', 'React']:\n",
    "        print(\"He is a front end developer\")\n",
    "    elif set(skills) == {'Node', 'Python', 'MongoDB'}:\n",
    "        print(\"He is a backend developer\")\n",
    "    elif set(skills) == {'React', 'Node', 'MongoDB'}:\n",
    "        print(\"He is a fullstack developer\")\n",
    "    else:\n",
    "        print(\"Unknown title\")\n",
    "\n",
    "# Check if the person is married and lives in Finland\n",
    "if person.get('is_married') and person.get('country') == 'Finland':\n",
    "    print(\"Married person living in Finland:\")\n",
    "    print(f\"{person['first_name']} {person['last_name']} lives in {person['country']} and is married.\")\n",
    "    print(f\"Address: {person['address']['street']}, {person['address']['zipcode']}\")\n"
   ]
  }
 ],
 "metadata": {
  "kernelspec": {
   "display_name": "base",
   "language": "python",
   "name": "python3"
  },
  "language_info": {
   "codemirror_mode": {
    "name": "ipython",
    "version": 3
   },
   "file_extension": ".py",
   "mimetype": "text/x-python",
   "name": "python",
   "nbconvert_exporter": "python",
   "pygments_lexer": "ipython3",
   "version": "3.11.7"
  }
 },
 "nbformat": 4,
 "nbformat_minor": 2
}
