{
 "cells": [
  {
   "cell_type": "markdown",
   "metadata": {},
   "source": [
    "#### EXERCISE LEVEL 1"
   ]
  },
  {
   "cell_type": "markdown",
   "metadata": {},
   "source": [
    "#### QUESTION 1"
   ]
  },
  {
   "cell_type": "code",
   "execution_count": 28,
   "metadata": {},
   "outputs": [
    {
     "name": "stdout",
     "output_type": "stream",
     "text": [
      "8\n"
     ]
    }
   ],
   "source": [
    "def add_two_numbers(num1, num2):\n",
    "    \"\"\"\n",
    "    Adds two numbers and returns the sum.\n",
    "\n",
    "    Parameters:\n",
    "    - num1: The first number\n",
    "    - num2: The second number\n",
    "\n",
    "    Returns:\n",
    "    The sum of num1 and num2\n",
    "    \"\"\"\n",
    "    return num1 + num2\n",
    "\n",
    "result = add_two_numbers(3, 5)\n",
    "print(result) "
   ]
  },
  {
   "cell_type": "markdown",
   "metadata": {},
   "source": [
    "#### QUESTION 2"
   ]
  },
  {
   "cell_type": "code",
   "execution_count": 3,
   "metadata": {},
   "outputs": [
    {
     "name": "stdout",
     "output_type": "stream",
     "text": [
      "43.00840342764427\n"
     ]
    }
   ],
   "source": [
    "import math\n",
    "\n",
    "def area_of_circle(radius):\n",
    "    \"\"\"\n",
    "    Calculates the area of a circle.\n",
    "\n",
    "    Parameters:\n",
    "    - radius: The radius of the circle\n",
    "\n",
    "    Returns:\n",
    "    The area of the circle\n",
    "    \"\"\"\n",
    "    return math.pi * radius * radius\n",
    "\n",
    "\n",
    "radius = 3.7\n",
    "result = area_of_circle(radius)\n",
    "print(result) \n"
   ]
  },
  {
   "cell_type": "markdown",
   "metadata": {},
   "source": [
    "#### QUESTION 3"
   ]
  },
  {
   "cell_type": "code",
   "execution_count": 4,
   "metadata": {},
   "outputs": [
    {
     "name": "stdout",
     "output_type": "stream",
     "text": [
      "10\n",
      "Error: All arguments must be numeric types.\n"
     ]
    }
   ],
   "source": [
    "def add_all_nums(*args):\n",
    "    \"\"\"\n",
    "    Sums all the numeric arguments.\n",
    "\n",
    "    Parameters:\n",
    "    - args: Arbitrary number of arguments\n",
    "\n",
    "    Returns:\n",
    "    The sum of all numeric arguments\n",
    "    \"\"\"\n",
    "    total = 0\n",
    "\n",
    "    for num in args:\n",
    "        if not isinstance(num, (int, float)):\n",
    "            return \"Error: All arguments must be numeric types.\"\n",
    "        total += num\n",
    "\n",
    "    return total\n",
    "\n",
    "result = add_all_nums(1, 2, 3, 4)\n",
    "print(result)\n",
    "\n",
    "result_with_non_numeric = add_all_nums(1, 2, 'three', 4)\n",
    "print(result_with_non_numeric)  \n"
   ]
  },
  {
   "cell_type": "markdown",
   "metadata": {},
   "source": [
    "#### QUESTION 4"
   ]
  },
  {
   "cell_type": "code",
   "execution_count": 5,
   "metadata": {},
   "outputs": [
    {
     "name": "stdout",
     "output_type": "stream",
     "text": [
      "98.6\n"
     ]
    }
   ],
   "source": [
    "def convert_celsius_to_fahrenheit(celsius):\n",
    "    \"\"\"\n",
    "    Converts temperature from Celsius to Fahrenheit.\n",
    "\n",
    "    Parameters:\n",
    "    - celsius: Temperature in Celsius\n",
    "\n",
    "    Returns:\n",
    "    Temperature in Fahrenheit\n",
    "    \"\"\"\n",
    "    fahrenheit = (celsius * 9/5) + 32\n",
    "    return fahrenheit\n",
    "\n",
    "celsius_temperature = 37\n",
    "fahrenheit_result = convert_celsius_to_fahrenheit(celsius_temperature)\n",
    "print(fahrenheit_result) \n"
   ]
  },
  {
   "cell_type": "markdown",
   "metadata": {},
   "source": [
    "#### QUESTION 5"
   ]
  },
  {
   "cell_type": "code",
   "execution_count": 7,
   "metadata": {},
   "outputs": [
    {
     "name": "stdout",
     "output_type": "stream",
     "text": [
      "Spring\n"
     ]
    }
   ],
   "source": [
    "def check_season(month):\n",
    "    \"\"\"\n",
    "    Determines the season based on the given month.\n",
    "\n",
    "    Parameters:\n",
    "    - month: Month as an integer (1 to 12)\n",
    "\n",
    "    Returns:\n",
    "    The corresponding season (Autumn, Winter, Spring, Summer)\n",
    "    \"\"\"\n",
    "    if 3 <= month <= 5:\n",
    "        return \"Spring\"\n",
    "    elif 6 <= month <= 8:\n",
    "        return \"Summer\"\n",
    "    elif 9 <= month <= 11:\n",
    "        return \"Autumn\"\n",
    "    else:\n",
    "        return \"Winter\"\n",
    "\n",
    "month_input = 3\n",
    "season_result = check_season(month_input)\n",
    "print(season_result) \n"
   ]
  },
  {
   "cell_type": "markdown",
   "metadata": {},
   "source": [
    "#### QUESTION 6"
   ]
  },
  {
   "cell_type": "code",
   "execution_count": 8,
   "metadata": {},
   "outputs": [
    {
     "name": "stdout",
     "output_type": "stream",
     "text": [
      "2\n"
     ]
    }
   ],
   "source": [
    "def calculate_slope(m):\n",
    "    \"\"\"\n",
    "    Calculates the slope of a linear equation in the form y = mx + b.\n",
    "\n",
    "    Parameters:\n",
    "    - m: Coefficient representing the slope\n",
    "\n",
    "    Returns:\n",
    "    The slope of the linear equation\n",
    "    \"\"\"\n",
    "    return m\n",
    "\n",
    "slope_result = calculate_slope(2)\n",
    "print(slope_result)\n"
   ]
  },
  {
   "cell_type": "markdown",
   "metadata": {},
   "source": [
    "#### QUESTION 7"
   ]
  },
  {
   "cell_type": "code",
   "execution_count": 14,
   "metadata": {},
   "outputs": [
    {
     "name": "stdout",
     "output_type": "stream",
     "text": [
      "((0.2+0.4j), (0.2-0.4j))\n"
     ]
    }
   ],
   "source": [
    "import cmath \n",
    "\n",
    "# Using cmath to handle complex numbers\n",
    "\n",
    "def solve_quadratic_eqn(a, b, c):\n",
    "    \"\"\"\n",
    "    Calculates the solution set of a quadratic equation ax^2 + bx + c = 0.\n",
    "\n",
    "    Parameters:\n",
    "    - a, b, c: Coefficients of the quadratic equation\n",
    "\n",
    "    Returns:\n",
    "    A tuple containing the solutions (roots) of the quadratic equation\n",
    "    \"\"\"\n",
    "    # Calculate the discriminant\n",
    "    discriminant = cmath.sqrt(b**2 - 4*a*c)\n",
    "\n",
    "    # Calculate the two solutions using the quadratic formula\n",
    "    root1 = (-b + discriminant) / (2*a)\n",
    "    root2 = (-b - discriminant) / (2*a)\n",
    "\n",
    "    return root1, root2\n",
    "\n",
    "coeff_a = 5\n",
    "coeff_b = -2\n",
    "coeff_c = 1\n",
    "\n",
    "roots = solve_quadratic_eqn(coeff_a, coeff_b, coeff_c)\n",
    "print(roots) \n"
   ]
  },
  {
   "cell_type": "markdown",
   "metadata": {},
   "source": [
    "#### QUESTION 8"
   ]
  },
  {
   "cell_type": "code",
   "execution_count": 15,
   "metadata": {},
   "outputs": [
    {
     "name": "stdout",
     "output_type": "stream",
     "text": [
      "2\n",
      "4\n",
      "6\n",
      "8\n",
      "10\n"
     ]
    }
   ],
   "source": [
    "def print_list(my_list):\n",
    "    \"\"\"\n",
    "    Prints each element of the given list.\n",
    "\n",
    "    Parameters:\n",
    "    - my_list: The list to be printed\n",
    "    \"\"\"\n",
    "    for element in my_list:\n",
    "        print(element)\n",
    "\n",
    "my_list = [2, 4, 6, 8, 10]\n",
    "print_list(my_list)\n"
   ]
  },
  {
   "cell_type": "markdown",
   "metadata": {},
   "source": [
    "#### QUESTION 9"
   ]
  },
  {
   "cell_type": "code",
   "execution_count": 27,
   "metadata": {},
   "outputs": [
    {
     "name": "stdout",
     "output_type": "stream",
     "text": [
      "[5, 4, 3, 2, 1]\n",
      "['C', 'B', 'A']\n"
     ]
    }
   ],
   "source": [
    "def reverse_list(my_list):\n",
    "    \"\"\"\n",
    "    Returns the reverse of the given list using loops.\n",
    "\n",
    "    Parameters:\n",
    "    - my_list: The list to be reversed\n",
    "\n",
    "    Returns:\n",
    "    The reversed list\n",
    "    \"\"\"\n",
    "    reversed_list = []\n",
    "    for i in range(len(my_list) - 1, -1, -1):\n",
    "        reversed_list.append(my_list[i])\n",
    "    return reversed_list\n",
    "\n",
    "example_list_1 = [1, 2, 3, 4, 5]\n",
    "result_1 = reverse_list(example_list_1)\n",
    "print(result_1) \n",
    "\n",
    "example_list_2 = [\"A\", \"B\", \"C\"]\n",
    "result_2 = reverse_list(example_list_2)\n",
    "print(result_2) \n"
   ]
  },
  {
   "cell_type": "markdown",
   "metadata": {},
   "source": [
    "#### QUESTION 10"
   ]
  },
  {
   "cell_type": "code",
   "execution_count": 17,
   "metadata": {},
   "outputs": [
    {
     "name": "stdout",
     "output_type": "stream",
     "text": [
      "['Aisha', 'Halima', 'Fatima']\n"
     ]
    }
   ],
   "source": [
    "def capitalize_list_items(my_list):\n",
    "    \"\"\"\n",
    "    Returns a capitalized list of items.\n",
    "\n",
    "    Parameters:\n",
    "    - my_list: The list of items to be capitalized\n",
    "\n",
    "    Returns:\n",
    "    A new list with capitalized items\n",
    "    \"\"\"\n",
    "    capitalized_list = [item.capitalize() for item in my_list]\n",
    "    return capitalized_list\n",
    "\n",
    "example_list = [\"aisha\", \"halima\", \"fatima\"]\n",
    "result = capitalize_list_items(example_list)\n",
    "print(result)\n"
   ]
  },
  {
   "cell_type": "markdown",
   "metadata": {},
   "source": [
    "#### QUESTION 11"
   ]
  },
  {
   "cell_type": "code",
   "execution_count": 18,
   "metadata": {},
   "outputs": [
    {
     "name": "stdout",
     "output_type": "stream",
     "text": [
      "['Potato', 'Tomato', 'Mango', 'Milk', 'Meat']\n",
      "[2, 3, 7, 9, 5]\n"
     ]
    }
   ],
   "source": [
    "def add_item(my_list, new_item):\n",
    "    \"\"\"\n",
    "    Returns a list with the new item added at the end.\n",
    "\n",
    "    Parameters:\n",
    "    - my_list: The original list\n",
    "    - new_item: The item to be added\n",
    "\n",
    "    Returns:\n",
    "    A new list with the new item added at the end\n",
    "    \"\"\"\n",
    "    updated_list = my_list.copy()\n",
    "    updated_list.append(new_item)\n",
    "    return updated_list\n",
    "\n",
    "food_staff = ['Potato', 'Tomato', 'Mango', 'Milk']\n",
    "result_food_staff = add_item(food_staff, 'Meat')\n",
    "print(result_food_staff) \n",
    "\n",
    "numbers = [2, 3, 7, 9]\n",
    "result_numbers = add_item(numbers, 5)\n",
    "print(result_numbers) \n"
   ]
  },
  {
   "cell_type": "markdown",
   "metadata": {},
   "source": [
    "#### QUESTION 12"
   ]
  },
  {
   "cell_type": "code",
   "execution_count": 19,
   "metadata": {},
   "outputs": [
    {
     "name": "stdout",
     "output_type": "stream",
     "text": [
      "['Potato', 'Tomato', 'Milk']\n",
      "[2, 7, 9]\n"
     ]
    }
   ],
   "source": [
    "def remove_item(my_list, item_to_remove):\n",
    "    \"\"\"\n",
    "    Returns a list with the specified item removed.\n",
    "\n",
    "    Parameters:\n",
    "    - my_list: The original list\n",
    "    - item_to_remove: The item to be removed\n",
    "\n",
    "    Returns:\n",
    "    A new list with the specified item removed\n",
    "    \"\"\"\n",
    "    updated_list = [item for item in my_list if item != item_to_remove]\n",
    "    return updated_list\n",
    "\n",
    "food_staff = ['Potato', 'Tomato', 'Mango', 'Milk']\n",
    "result_food_staff = remove_item(food_staff, 'Mango')\n",
    "print(result_food_staff)  \n",
    "\n",
    "numbers = [2, 3, 7, 9]\n",
    "result_numbers = remove_item(numbers, 3)\n",
    "print(result_numbers) \n"
   ]
  },
  {
   "cell_type": "markdown",
   "metadata": {},
   "source": [
    "### QUESTION 13"
   ]
  },
  {
   "cell_type": "code",
   "execution_count": 20,
   "metadata": {},
   "outputs": [
    {
     "name": "stdout",
     "output_type": "stream",
     "text": [
      "15\n",
      "55\n",
      "5050\n"
     ]
    }
   ],
   "source": [
    "def sum_of_numbers(n):\n",
    "    \"\"\"\n",
    "    Adds all the numbers in the range from 1 to the given number.\n",
    "\n",
    "    Parameters:\n",
    "    - n: The upper limit of the range\n",
    "\n",
    "    Returns:\n",
    "    The sum of all numbers in the range from 1 to n\n",
    "    \"\"\"\n",
    "    return sum(range(1, n + 1))\n",
    "\n",
    "result_1 = sum_of_numbers(5)\n",
    "print(result_1) \n",
    "\n",
    "result_2 = sum_of_numbers(10)\n",
    "print(result_2) \n",
    "\n",
    "result_3 = sum_of_numbers(100)\n",
    "print(result_3) \n"
   ]
  },
  {
   "cell_type": "markdown",
   "metadata": {},
   "source": [
    "#### QUESTION 14"
   ]
  },
  {
   "cell_type": "code",
   "execution_count": 21,
   "metadata": {},
   "outputs": [
    {
     "name": "stdout",
     "output_type": "stream",
     "text": [
      "9\n",
      "25\n",
      "64\n"
     ]
    }
   ],
   "source": [
    "def sum_of_odds(n):\n",
    "    \"\"\"\n",
    "    Adds all the odd numbers in the range from 1 to the given number.\n",
    "\n",
    "    Parameters:\n",
    "    - n: The upper limit of the range\n",
    "\n",
    "    Returns:\n",
    "    The sum of all odd numbers in the range from 1 to n\n",
    "    \"\"\"\n",
    "    return sum(i for i in range(1, n + 1) if i % 2 != 0)\n",
    "\n",
    "\n",
    "result_1 = sum_of_odds(5)\n",
    "print(result_1)  \n",
    "\n",
    "result_2 = sum_of_odds(10)\n",
    "print(result_2)  \n",
    "\n",
    "result_3 = sum_of_odds(15)\n",
    "print(result_3)  \n"
   ]
  },
  {
   "cell_type": "markdown",
   "metadata": {},
   "source": [
    "#### QUESTION 15"
   ]
  },
  {
   "cell_type": "code",
   "execution_count": 22,
   "metadata": {},
   "outputs": [
    {
     "name": "stdout",
     "output_type": "stream",
     "text": [
      "6\n",
      "30\n",
      "56\n"
     ]
    }
   ],
   "source": [
    "def sum_of_even(n):\n",
    "    \"\"\"\n",
    "    Adds all the even numbers in the range from 1 to the given number.\n",
    "\n",
    "    Parameters:\n",
    "    - n: The upper limit of the range\n",
    "\n",
    "    Returns:\n",
    "    The sum of all even numbers in the range from 1 to n\n",
    "    \"\"\"\n",
    "    return sum(i for i in range(1, n + 1) if i % 2 == 0)\n",
    "\n",
    "\n",
    "result_1 = sum_of_even(5)\n",
    "print(result_1) \n",
    "\n",
    "result_2 = sum_of_even(10)\n",
    "print(result_2) \n",
    "\n",
    "result_3 = sum_of_even(15)\n",
    "print(result_3) \n"
   ]
  },
  {
   "cell_type": "markdown",
   "metadata": {},
   "source": [
    "#### EXERCISE LEVEL 2"
   ]
  },
  {
   "cell_type": "markdown",
   "metadata": {},
   "source": [
    "#### QUESTION 1"
   ]
  },
  {
   "cell_type": "code",
   "execution_count": 32,
   "metadata": {},
   "outputs": [],
   "source": [
    "def evens_and_odds(number):\n",
    "    \"\"\"\n",
    "    Counts the number of even and odd digits in the given positive integer.\n",
    "\n",
    "    Parameters:\n",
    "    - number: The positive integer\n",
    "\n",
    "    Prints:\n",
    "    The number of odds and evens in the integer\n",
    "    \"\"\"\n",
    "    if number <= 0:\n",
    "        print(\"Please provide a positive integer.\")\n",
    "        return\n",
    "\n",
    "    # Convert the number to a string to iterate through its digits\n",
    "    str_number = str(number)\n",
    "\n",
    "    # Count the number of odd and even digits\n",
    "    count_odds = sum(int(digit) % 2 != 0 for digit in str_number)\n",
    "    count_evens = sum(int(digit) % 2 == 0 for digit in str_number)\n",
    "\n",
    "    # Print the results\n",
    "    print(f\"The number of odds are {count_odds}.\")\n",
    "    print(f\"The number of evens are {count_evens}.\")\n",
    "    \n",
    "    evens_and_odds(100)\n"
   ]
  },
  {
   "cell_type": "markdown",
   "metadata": {},
   "source": [
    "#### QUESTION 2"
   ]
  },
  {
   "cell_type": "code",
   "execution_count": 25,
   "metadata": {},
   "outputs": [
    {
     "name": "stdout",
     "output_type": "stream",
     "text": [
      "120\n",
      "1\n",
      "Factorial is not defined for negative numbers.\n"
     ]
    }
   ],
   "source": [
    "def factorial(n):\n",
    "    \"\"\"\n",
    "    Calculates the factorial of a whole number.\n",
    "\n",
    "    Parameters:\n",
    "    - n: The whole number\n",
    "\n",
    "    Returns:\n",
    "    The factorial of the number\n",
    "    \"\"\"\n",
    "    if n < 0:\n",
    "        return \"Factorial is not defined for negative numbers.\"\n",
    "    elif n == 0 or n == 1:\n",
    "        return 1\n",
    "    else:\n",
    "        result = 1\n",
    "        for i in range(2, n + 1):\n",
    "            result *= i\n",
    "        return result\n",
    "\n",
    "result_1 = factorial(5)\n",
    "print(result_1) \n",
    "\n",
    "result_2 = factorial(0)\n",
    "print(result_2)\n",
    "\n",
    "result_3 = factorial(-3)\n",
    "print(result_3) \n"
   ]
  },
  {
   "cell_type": "markdown",
   "metadata": {},
   "source": [
    "#### QUESTION 3"
   ]
  },
  {
   "cell_type": "code",
   "execution_count": 26,
   "metadata": {},
   "outputs": [
    {
     "name": "stdout",
     "output_type": "stream",
     "text": [
      "True\n",
      "True\n",
      "False\n",
      "False\n"
     ]
    }
   ],
   "source": [
    "def is_empty(value):\n",
    "    \"\"\"\n",
    "    Checks if the given value is empty.\n",
    "\n",
    "    Parameters:\n",
    "    - value: The value to be checked\n",
    "\n",
    "    Returns:\n",
    "    True if the value is empty, False otherwise\n",
    "    \"\"\"\n",
    "    if not value:\n",
    "        return True\n",
    "    else:\n",
    "        return False\n",
    "\n",
    "result_1 = is_empty(\"\")  # Empty string\n",
    "print(result_1)  \n",
    "\n",
    "result_2 = is_empty([])  # Empty list\n",
    "print(result_2)  \n",
    "\n",
    "result_3 = is_empty(\"Hello, World!\")  # Non-empty string\n",
    "print(result_3) \n",
    "\n",
    "result_4 = is_empty([1, 2, 3])  # Non-empty list\n",
    "print(result_4) \n"
   ]
  },
  {
   "cell_type": "markdown",
   "metadata": {},
   "source": [
    "#### QUESTION 4"
   ]
  },
  {
   "cell_type": "code",
   "execution_count": 33,
   "metadata": {},
   "outputs": [
    {
     "name": "stdout",
     "output_type": "stream",
     "text": [
      "Mean: 5.714285714285714\n",
      "Median: 6\n",
      "Mode: [2, 4, 6, 8, 10, 3, 7]\n",
      "Range: 8\n",
      "Variance: 7.061224489795918\n",
      "Standard Deviation: 2.657296462534039\n"
     ]
    }
   ],
   "source": [
    "def calculate_mean(data):\n",
    "    \"\"\"\n",
    "    Calculates the mean (average) of a list of numbers.\n",
    "\n",
    "    Parameters:\n",
    "    - data: The list of numbers\n",
    "\n",
    "    Returns:\n",
    "    The mean of the numbers\n",
    "    \"\"\"\n",
    "    if not data:\n",
    "        return \"Cannot calculate mean for an empty list.\"\n",
    "    \n",
    "    return sum(data) / len(data)\n",
    "\n",
    "\n",
    "def calculate_median(data):\n",
    "    \"\"\"\n",
    "    Calculates the median of a list of numbers.\n",
    "\n",
    "    Parameters:\n",
    "    - data: The list of numbers\n",
    "\n",
    "    Returns:\n",
    "    The median of the numbers\n",
    "    \"\"\"\n",
    "    if not data:\n",
    "        return \"Cannot calculate median for an empty list.\"\n",
    "\n",
    "    sorted_data = sorted(data)\n",
    "    n = len(sorted_data)\n",
    "\n",
    "    if n % 2 == 0:\n",
    "        middle1 = sorted_data[n // 2 - 1]\n",
    "        middle2 = sorted_data[n // 2]\n",
    "        return (middle1 + middle2) / 2\n",
    "    else:\n",
    "        return sorted_data[n // 2]\n",
    "\n",
    "\n",
    "def calculate_mode(data):\n",
    "    \"\"\"\n",
    "    Calculates the mode of a list of numbers.\n",
    "\n",
    "    Parameters:\n",
    "    - data: The list of numbers\n",
    "\n",
    "    Returns:\n",
    "    A list containing the mode(s) of the numbers\n",
    "    \"\"\"\n",
    "    if not data:\n",
    "        return \"Cannot calculate mode for an empty list.\"\n",
    "\n",
    "    counts = {}\n",
    "    for number in data:\n",
    "        if number in counts:\n",
    "            counts[number] += 1\n",
    "        else:\n",
    "            counts[number] = 1\n",
    "\n",
    "    max_count = max(counts.values())\n",
    "    mode = [number for number, count in counts.items() if count == max_count]\n",
    "\n",
    "    return mode\n",
    "\n",
    "\n",
    "def calculate_range(data):\n",
    "    \"\"\"\n",
    "    Calculates the range of a list of numbers.\n",
    "\n",
    "    Parameters:\n",
    "    - data: The list of numbers\n",
    "\n",
    "    Returns:\n",
    "    The range of the numbers\n",
    "    \"\"\"\n",
    "    if not data:\n",
    "        return \"Cannot calculate range for an empty list.\"\n",
    "\n",
    "    return max(data) - min(data)\n",
    "\n",
    "\n",
    "def calculate_variance(data):\n",
    "    \"\"\"\n",
    "    Calculates the variance of a list of numbers.\n",
    "\n",
    "    Parameters:\n",
    "    - data: The list of numbers\n",
    "\n",
    "    Returns:\n",
    "    The variance of the numbers\n",
    "    \"\"\"\n",
    "    if not data:\n",
    "        return \"Cannot calculate variance for an empty list.\"\n",
    "\n",
    "    mean = calculate_mean(data)\n",
    "    squared_diff = [(x - mean) ** 2 for x in data]\n",
    "    variance = sum(squared_diff) / len(data)\n",
    "\n",
    "    return variance\n",
    "\n",
    "\n",
    "def calculate_std(data):\n",
    "    \"\"\"\n",
    "    Calculates the standard deviation of a list of numbers.\n",
    "\n",
    "    Parameters:\n",
    "    - data: The list of numbers\n",
    "\n",
    "    Returns:\n",
    "    The standard deviation of the numbers\n",
    "    \"\"\"\n",
    "    if not data:\n",
    "        return \"Cannot calculate standard deviation for an empty list.\"\n",
    "\n",
    "    variance = calculate_variance(data)\n",
    "    std_dev = variance ** 0.5\n",
    "\n",
    "    return std_dev\n",
    "\n",
    "# Example usage:\n",
    "data_list = [2,4,6,8,10,3,7]\n",
    "print(\"Mean:\", calculate_mean(data_list))\n",
    "print(\"Median:\", calculate_median(data_list))\n",
    "print(\"Mode:\", calculate_mode(data_list))\n",
    "print(\"Range:\", calculate_range(data_list))\n",
    "print(\"Variance:\", calculate_variance(data_list))\n",
    "print(\"Standard Deviation:\", calculate_std(data_list))\n"
   ]
  },
  {
   "cell_type": "markdown",
   "metadata": {},
   "source": [
    "#### EXERCISE level 3"
   ]
  },
  {
   "cell_type": "markdown",
   "metadata": {},
   "source": [
    "#### EXERCISE 1"
   ]
  },
  {
   "cell_type": "code",
   "execution_count": 34,
   "metadata": {},
   "outputs": [
    {
     "name": "stdout",
     "output_type": "stream",
     "text": [
      "True\n",
      "False\n",
      "False\n"
     ]
    }
   ],
   "source": [
    "def is_prime(number):\n",
    "    \"\"\"\n",
    "    Checks if the given number is a prime number.\n",
    "\n",
    "    Parameters:\n",
    "    - number: The number to be checked\n",
    "\n",
    "    Returns:\n",
    "    True if the number is prime, False otherwise\n",
    "    \"\"\"\n",
    "    if number < 2:\n",
    "        return False\n",
    "    elif number == 2:\n",
    "        return True\n",
    "    elif number % 2 == 0:\n",
    "        return False\n",
    "    else:\n",
    "        # Check for factors up to the square root of the number\n",
    "        for i in range(3, int(number**0.5) + 1, 2):\n",
    "            if number % i == 0:\n",
    "                return False\n",
    "        return True\n",
    "\n",
    "print(is_prime(5))  \n",
    "print(is_prime(9)) \n",
    "print(is_prime(18))\n"
   ]
  },
  {
   "cell_type": "markdown",
   "metadata": {},
   "source": [
    "#### QUESTION 2"
   ]
  },
  {
   "cell_type": "code",
   "execution_count": 35,
   "metadata": {},
   "outputs": [
    {
     "name": "stdout",
     "output_type": "stream",
     "text": [
      "True\n",
      "False\n"
     ]
    }
   ],
   "source": [
    "def are_all_unique(my_list):\n",
    "    \"\"\"\n",
    "    Checks if all items in the given list are unique.\n",
    "\n",
    "    Parameters:\n",
    "    - my_list: The list to be checked\n",
    "\n",
    "    Returns:\n",
    "    True if all items are unique, False otherwise\n",
    "    \"\"\"\n",
    "    seen_items = set()\n",
    "    \n",
    "    for item in my_list:\n",
    "        if item in seen_items:\n",
    "            return False\n",
    "        seen_items.add(item)\n",
    "    \n",
    "    return True\n",
    "\n",
    "list_1 = [1,3, 6,9, 13, 8]\n",
    "print(are_all_unique(list_1)) \n",
    "\n",
    "list_2 = [1, 2, 3, 4, 5, 4]\n",
    "print(are_all_unique(list_2)) \n"
   ]
  },
  {
   "cell_type": "markdown",
   "metadata": {},
   "source": [
    "#### QUESTION 3"
   ]
  },
  {
   "cell_type": "code",
   "execution_count": 36,
   "metadata": {},
   "outputs": [
    {
     "name": "stdout",
     "output_type": "stream",
     "text": [
      "True\n",
      "False\n"
     ]
    }
   ],
   "source": [
    "def are_all_same_type(my_list):\n",
    "    \"\"\"\n",
    "    Checks if all items in the given list are of the same data type.\n",
    "\n",
    "    Parameters:\n",
    "    - my_list: The list to be checked\n",
    "\n",
    "    Returns:\n",
    "    True if all items are of the same data type, False otherwise\n",
    "    \"\"\"\n",
    "    if not my_list:\n",
    "        return False\n",
    "    \n",
    "    data_type = type(my_list[0])\n",
    "    \n",
    "    for item in my_list[1:]:\n",
    "        if type(item) != data_type:\n",
    "            return False\n",
    "    \n",
    "    return True\n",
    "\n",
    "list_1 = [2, 4, 6, 8, 10]\n",
    "print(are_all_same_type(list_1)) \n",
    "\n",
    "list_2 = [2, 4, 'Six', 8, 'Ten']\n",
    "print(are_all_same_type(list_2)) \n"
   ]
  }
 ],
 "metadata": {
  "kernelspec": {
   "display_name": "Python 3",
   "language": "python",
   "name": "python3"
  },
  "language_info": {
   "codemirror_mode": {
    "name": "ipython",
    "version": 3
   },
   "file_extension": ".py",
   "mimetype": "text/x-python",
   "name": "python",
   "nbconvert_exporter": "python",
   "pygments_lexer": "ipython3",
   "version": "3.11.7"
  }
 },
 "nbformat": 4,
 "nbformat_minor": 2
}
