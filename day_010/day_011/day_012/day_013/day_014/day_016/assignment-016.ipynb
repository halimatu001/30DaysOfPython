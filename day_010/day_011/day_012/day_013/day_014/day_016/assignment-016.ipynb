{
 "cells": [
  {
   "cell_type": "markdown",
   "metadata": {},
   "source": [
    "#### QUESTON 1 Get the current day, month, year, hour, minute and timestamp from datetime module\n"
   ]
  },
  {
   "cell_type": "code",
   "execution_count": 1,
   "metadata": {},
   "outputs": [
    {
     "name": "stdout",
     "output_type": "stream",
     "text": [
      "Current Day: 29\n",
      "Current Month: 12\n",
      "Current Year: 2023\n",
      "Current Hour: 12\n",
      "Current Minute: 53\n",
      "Timestamp: 1703850782\n"
     ]
    }
   ],
   "source": [
    "from datetime import datetime\n",
    "\n",
    "# Get the current date and time\n",
    "now = datetime.now()\n",
    "\n",
    "# Extract individual components\n",
    "current_day = now.day\n",
    "current_month = now.month\n",
    "current_year = now.year\n",
    "current_hour = now.hour\n",
    "current_minute = now.minute\n",
    "\n",
    "# Get timestamp (number of seconds since the epoch)\n",
    "timestamp = int(now.timestamp())\n",
    "\n",
    "# Print the results\n",
    "print(f\"Current Day: {current_day}\")\n",
    "print(f\"Current Month: {current_month}\")\n",
    "print(f\"Current Year: {current_year}\")\n",
    "print(f\"Current Hour: {current_hour}\")\n",
    "print(f\"Current Minute: {current_minute}\")\n",
    "print(f\"Timestamp: {timestamp}\")\n"
   ]
  },
  {
   "cell_type": "markdown",
   "metadata": {},
   "source": [
    "#### QUESTION 2 Format the current date using this format: \"%m/%d/%Y, %H:%M:%S\""
   ]
  },
  {
   "cell_type": "code",
   "execution_count": 2,
   "metadata": {},
   "outputs": [
    {
     "name": "stdout",
     "output_type": "stream",
     "text": [
      "Formatted Date: 12/29/2023, 12:54:01\n"
     ]
    }
   ],
   "source": [
    "from datetime import datetime\n",
    "\n",
    "# Get the current date and time\n",
    "now = datetime.now()\n",
    "\n",
    "# Format the current date using the specified format\n",
    "formatted_date = now.strftime(\"%m/%d/%Y, %H:%M:%S\")\n",
    "\n",
    "# Print the formatted date\n",
    "print(f\"Formatted Date: {formatted_date}\")\n"
   ]
  },
  {
   "cell_type": "markdown",
   "metadata": {},
   "source": [
    "#### QUESTION 3 Today is 5 December, 2019. Change this time string to time."
   ]
  },
  {
   "cell_type": "code",
   "execution_count": 3,
   "metadata": {},
   "outputs": [
    {
     "name": "stdout",
     "output_type": "stream",
     "text": [
      "Converted Time: 2019-12-05 00:00:00\n"
     ]
    }
   ],
   "source": [
    "from datetime import datetime\n",
    "\n",
    "# Time string to be converted\n",
    "time_string = \"5 December, 2019\"\n",
    "\n",
    "# Format for the time string\n",
    "time_format = \"%d %B, %Y\"\n",
    "\n",
    "# Convert the time string to a datetime object\n",
    "converted_time = datetime.strptime(time_string, time_format)\n",
    "\n",
    "# Print the converted time\n",
    "print(\"Converted Time:\", converted_time)\n"
   ]
  },
  {
   "cell_type": "markdown",
   "metadata": {},
   "source": [
    "#### QUESTION 4 Calculate the time difference between now and new year.\n"
   ]
  },
  {
   "cell_type": "code",
   "execution_count": 6,
   "metadata": {},
   "outputs": [
    {
     "name": "stdout",
     "output_type": "stream",
     "text": [
      "Time difference until New Year's Day: 2 days, 11 hours, 2 minutes\n"
     ]
    }
   ],
   "source": [
    "from datetime import datetime, timedelta\n",
    "\n",
    "# Get the current date and time\n",
    "now = datetime.now()\n",
    "\n",
    "# Set the date for New Year's Day\n",
    "new_year = datetime(now.year + 1, 1, 1, 0, 0, 0) \n",
    "\n",
    "# Calculate the time difference\n",
    "time_difference = new_year - now\n",
    "\n",
    "# Print the time difference in days, hours, and minutes\n",
    "print(f\"Time difference until New Year's Day: {time_difference.days} days, {time_difference.seconds // 3600} hours, {time_difference.seconds % 3600 // 60} minutes\")\n"
   ]
  },
  {
   "cell_type": "markdown",
   "metadata": {},
   "source": [
    "#### QUESTION 5 Calculate the time difference between 1 January 1970 and now."
   ]
  },
  {
   "cell_type": "code",
   "execution_count": 7,
   "metadata": {},
   "outputs": [
    {
     "name": "stdout",
     "output_type": "stream",
     "text": [
      "Time difference since 1 January 1970: 1703854701.537401 seconds\n",
      "Time difference in minutes: 28397578.358956683 minutes\n",
      "Time difference in hours: 473292.97264927806 hours\n",
      "Time difference in days: 19720 days\n"
     ]
    }
   ],
   "source": [
    "from datetime import datetime\n",
    "\n",
    "# Get the current date and time\n",
    "now = datetime.now()\n",
    "\n",
    "# Set the epoch time (1 January 1970)\n",
    "epoch_time = datetime(1970, 1, 1, 0, 0, 0)\n",
    "\n",
    "# Calculate the time difference\n",
    "time_difference = now - epoch_time\n",
    "\n",
    "# Print the time difference in seconds, minutes, hours, and days\n",
    "print(f\"Time difference since 1 January 1970: {time_difference.total_seconds()} seconds\")\n",
    "print(f\"Time difference in minutes: {time_difference.total_seconds() / 60} minutes\")\n",
    "print(f\"Time difference in hours: {time_difference.total_seconds() / 3600} hours\")\n",
    "print(f\"Time difference in days: {time_difference.days} days\")\n"
   ]
  },
  {
   "cell_type": "markdown",
   "metadata": {},
   "source": [
    "#### QUESTION 6 Think, what can you use the datetime module for? Examples: Time series analysis"
   ]
  },
  {
   "cell_type": "code",
   "execution_count": null,
   "metadata": {},
   "outputs": [],
   "source": [
    "#### Event scheduling, Web development and time series analysis.\n"
   ]
  }
 ],
 "metadata": {
  "kernelspec": {
   "display_name": "Python 3",
   "language": "python",
   "name": "python3"
  },
  "language_info": {
   "codemirror_mode": {
    "name": "ipython",
    "version": 3
   },
   "file_extension": ".py",
   "mimetype": "text/x-python",
   "name": "python",
   "nbconvert_exporter": "python",
   "pygments_lexer": "ipython3",
   "version": "3.11.7"
  }
 },
 "nbformat": 4,
 "nbformat_minor": 2
}
