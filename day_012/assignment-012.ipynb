{
 "cells": [
  {
   "cell_type": "markdown",
   "metadata": {},
   "source": [
    "#### QUESTION 1"
   ]
  },
  {
   "cell_type": "code",
   "execution_count": 1,
   "metadata": {},
   "outputs": [
    {
     "name": "stdout",
     "output_type": "stream",
     "text": [
      "nDpL1Q\n"
     ]
    }
   ],
   "source": [
    "import random\n",
    "import string\n",
    "\n",
    "def random_user_id():\n",
    "    \"\"\"\n",
    "    Generates a six-digit random user ID.\n",
    "\n",
    "    Returns:\n",
    "    str: A six-character random user ID.\n",
    "    \"\"\"\n",
    "    \n",
    "    user_id = ''.join(random.choices(string.ascii_letters + string.digits, k=6))\n",
    "    return user_id\n",
    "\n",
    "print(random_user_id())\n"
   ]
  },
  {
   "cell_type": "markdown",
   "metadata": {},
   "source": [
    "#### QUESTION 2"
   ]
  },
  {
   "cell_type": "code",
   "execution_count": 3,
   "metadata": {},
   "outputs": [
    {
     "name": "stdout",
     "output_type": "stream",
     "text": [
      "['3aG0DoeR8AbnMVcV', '450BbYFoEbrngfDA', 'TP4nJdJwZtoShpWj', '2E3pFRk0sCyLpN7R', 'Kxmj1p6KuwhCNO41']\n"
     ]
    }
   ],
   "source": [
    "import random\n",
    "import string\n",
    "\n",
    "def user_id_gen_by_user():\n",
    "    \"\"\"\n",
    "    Generates user-specified number of user IDs with a specified number of characters.\n",
    "\n",
    "    Returns:\n",
    "    list: A list of user IDs.\n",
    "    \"\"\"\n",
    "    try:\n",
    "        # Get user input for number of characters and number of IDs\n",
    "        char_count = int(input(\"Enter the number of characters for each user ID: \"))\n",
    "        id_count = int(input(\"Enter the number of user IDs to generate: \"))\n",
    "        \n",
    "        if char_count <= 0 or id_count <= 0:\n",
    "            print(\"Invalid input. Both values should be greater than zero.\")\n",
    "            return []\n",
    "\n",
    "        # Generate user IDs\n",
    "        user_ids = [''.join(random.choices(string.ascii_letters + string.digits, k=char_count)) for _ in range(id_count)]\n",
    "        \n",
    "        return user_ids\n",
    "    except ValueError:\n",
    "        print(\"Invalid input. Please enter valid integer values.\")\n",
    "        return []\n",
    "\n",
    "\n",
    "print(user_id_gen_by_user())\n"
   ]
  },
  {
   "cell_type": "markdown",
   "metadata": {},
   "source": [
    "#### QUESTION 3"
   ]
  },
  {
   "cell_type": "code",
   "execution_count": 4,
   "metadata": {},
   "outputs": [
    {
     "name": "stdout",
     "output_type": "stream",
     "text": [
      "rgb(218,123,245)\n"
     ]
    }
   ],
   "source": [
    "import random\n",
    "\n",
    "def rgb_color_gen():\n",
    "    \"\"\"\n",
    "    Generates random RGB colors.\n",
    "\n",
    "    Returns:\n",
    "    str: A string representing the RGB color in the format \"rgb(r, g, b)\".\n",
    "    \"\"\"\n",
    "    # Generate random values for red, green, and blue components\n",
    "    red = random.randint(0, 255)\n",
    "    green = random.randint(0, 255)\n",
    "    blue = random.randint(0, 255)\n",
    "\n",
    "    # Format the result string\n",
    "    rgb_color = f\"rgb({red},{green},{blue})\"\n",
    "    return rgb_color\n",
    "\n",
    "\n",
    "print(rgb_color_gen())\n"
   ]
  },
  {
   "cell_type": "markdown",
   "metadata": {},
   "source": [
    "#### EXERCISE LEVEL 2"
   ]
  },
  {
   "cell_type": "markdown",
   "metadata": {},
   "source": [
    "#### QUESTION 1"
   ]
  },
  {
   "cell_type": "code",
   "execution_count": 5,
   "metadata": {},
   "outputs": [
    {
     "name": "stdout",
     "output_type": "stream",
     "text": [
      "['#5dad4b', '#5a13a4', '#114125', '#7d0a87', '#db8718']\n"
     ]
    }
   ],
   "source": [
    "import random\n",
    "\n",
    "def list_of_hexa_colors(num_colors):\n",
    "    \"\"\"\n",
    "    Generates an array of random hexadecimal colors.\n",
    "\n",
    "    Parameters:\n",
    "    - num_colors (int): The number of hexadecimal colors to generate.\n",
    "\n",
    "    Returns:\n",
    "    list: A list of strings representing hexadecimal colors.\n",
    "    \"\"\"\n",
    "    hex_colors = []\n",
    "\n",
    "    for _ in range(num_colors):\n",
    "        # Generate a random hexadecimal color\n",
    "        hex_color = \"#{:06x}\".format(random.randint(0, 0xFFFFFF))\n",
    "        hex_colors.append(hex_color)\n",
    "\n",
    "    return hex_colors\n",
    "\n",
    "num_colors = 5\n",
    "print(list_of_hexa_colors(num_colors))\n"
   ]
  },
  {
   "cell_type": "markdown",
   "metadata": {},
   "source": [
    "#### QUESTION 2"
   ]
  },
  {
   "cell_type": "code",
   "execution_count": 6,
   "metadata": {},
   "outputs": [
    {
     "name": "stdout",
     "output_type": "stream",
     "text": [
      "['rgb(201, 133, 131)', 'rgb(62, 221, 40)', 'rgb(255, 35, 91)', 'rgb(62, 34, 24)', 'rgb(183, 240, 133)']\n"
     ]
    }
   ],
   "source": [
    "import random\n",
    "\n",
    "def list_of_rgb_colors(num_colors):\n",
    "    \"\"\"\n",
    "    Generates an array of random RGB colors.\n",
    "\n",
    "    Parameters:\n",
    "    - num_colors (int): The number of RGB colors to generate.\n",
    "\n",
    "    Returns:\n",
    "    list: A list of strings representing RGB colors.\n",
    "    \"\"\"\n",
    "    rgb_colors = []\n",
    "\n",
    "    for _ in range(num_colors):\n",
    "        # Generate random values for red, green, and blue components\n",
    "        red = random.randint(0, 255)\n",
    "        green = random.randint(0, 255)\n",
    "        blue = random.randint(0, 255)\n",
    "\n",
    "        # Format the RGB color string\n",
    "        rgb_color = \"rgb({}, {}, {})\".format(red, green, blue)\n",
    "        rgb_colors.append(rgb_color)\n",
    "\n",
    "    return rgb_colors\n",
    "\n",
    "num_colors = 5\n",
    "print(list_of_rgb_colors(num_colors))\n"
   ]
  },
  {
   "cell_type": "markdown",
   "metadata": {},
   "source": [
    "#### QUESTION 3"
   ]
  },
  {
   "cell_type": "code",
   "execution_count": 7,
   "metadata": {},
   "outputs": [
    {
     "name": "stdout",
     "output_type": "stream",
     "text": [
      "['#48a50f', '#d7052d', '#f8c80f']\n",
      "['#122d4f']\n",
      "['rgb(119, 255, 229)', 'rgb(246, 37, 45)', 'rgb(87, 144, 213)']\n",
      "['rgb(117, 142, 39)']\n"
     ]
    }
   ],
   "source": [
    "import random\n",
    "\n",
    "def generate_colors(color_format, num_colors):\n",
    "    \"\"\"\n",
    "    Generates any number of hexa or rgb colors.\n",
    "\n",
    "    Parameters:\n",
    "    - color_format (str): The desired color format ('hexa' or 'rgb').\n",
    "    - num_colors (int): The number of colors to generate.\n",
    "\n",
    "    Returns:\n",
    "    list: A list of strings representing colors in the specified format.\n",
    "    \"\"\"\n",
    "    colors = []\n",
    "\n",
    "    for _ in range(num_colors):\n",
    "        if color_format == 'hexa':\n",
    "            # Generate a random hexadecimal color (e.g., #1a2b3c)\n",
    "            hex_color = \"#{:06x}\".format(random.randint(0, 0xFFFFFF))\n",
    "            colors.append(hex_color)\n",
    "        elif color_format == 'rgb':\n",
    "            # Generate random values for red, green, and blue components\n",
    "            red = random.randint(0, 255)\n",
    "            green = random.randint(0, 255)\n",
    "            blue = random.randint(0, 255)\n",
    "\n",
    "            # Format the RGB color string\n",
    "            rgb_color = \"rgb({}, {}, {})\".format(red, green, blue)\n",
    "            colors.append(rgb_color)\n",
    "        else:\n",
    "            print(\"Invalid color format. Use 'hexa' or 'rgb'.\")\n",
    "            return []\n",
    "\n",
    "    return colors\n",
    "\n",
    "print(generate_colors('hexa', 3))\n",
    "print(generate_colors('hexa', 1))\n",
    "print(generate_colors('rgb', 3))\n",
    "print(generate_colors('rgb', 1))\n"
   ]
  },
  {
   "cell_type": "markdown",
   "metadata": {},
   "source": [
    "#### EXERCISE LEVEL 3"
   ]
  },
  {
   "cell_type": "code",
   "execution_count": 8,
   "metadata": {},
   "outputs": [
    {
     "name": "stdout",
     "output_type": "stream",
     "text": [
      "Original List: [2, 4, 6, 8, 10]\n",
      "Shuffled List: [4, 10, 8, 2, 6]\n"
     ]
    }
   ],
   "source": [
    "import random\n",
    "\n",
    "def shuffle_list(input_list):\n",
    "    \"\"\"\n",
    "    Shuffles the elements of a given list.\n",
    "\n",
    "    Parameters:\n",
    "    - input_list (list): The list to be shuffled.\n",
    "\n",
    "    Returns:\n",
    "    list: A shuffled version of the input list.\n",
    "    \"\"\"\n",
    "    shuffled_list = list(input_list)\n",
    "    random.shuffle(shuffled_list)\n",
    "    return shuffled_list\n",
    "\n",
    "original_list = [2, 4, 6, 8, 10]\n",
    "shuffled_result = shuffle_list(original_list)\n",
    "\n",
    "print(\"Original List:\", original_list)\n",
    "print(\"Shuffled List:\", shuffled_result)\n"
   ]
  },
  {
   "cell_type": "markdown",
   "metadata": {},
   "source": [
    "#### QUESTION 2"
   ]
  },
  {
   "cell_type": "code",
   "execution_count": 9,
   "metadata": {},
   "outputs": [
    {
     "name": "stdout",
     "output_type": "stream",
     "text": [
      "[1, 2, 3, 5, 6, 7, 8]\n"
     ]
    }
   ],
   "source": [
    "import random\n",
    "\n",
    "def generate_unique_random_numbers():\n",
    "    \"\"\"\n",
    "    Generates an array of seven unique random numbers in the range of 0-9.\n",
    "\n",
    "    Returns:\n",
    "    list: A list of seven unique random numbers.\n",
    "    \"\"\"\n",
    "    # Ensure uniqueness by using a set\n",
    "    unique_numbers = set()\n",
    "\n",
    "    while len(unique_numbers) < 7:\n",
    "        unique_numbers.add(random.randint(0, 9))\n",
    "\n",
    "    return list(unique_numbers)\n",
    "\n",
    "random_numbers = generate_unique_random_numbers()\n",
    "print(random_numbers)\n"
   ]
  }
 ],
 "metadata": {
  "kernelspec": {
   "display_name": "Python 3",
   "language": "python",
   "name": "python3"
  },
  "language_info": {
   "codemirror_mode": {
    "name": "ipython",
    "version": 3
   },
   "file_extension": ".py",
   "mimetype": "text/x-python",
   "name": "python",
   "nbconvert_exporter": "python",
   "pygments_lexer": "ipython3",
   "version": "3.11.7"
  }
 },
 "nbformat": 4,
 "nbformat_minor": 2
}
