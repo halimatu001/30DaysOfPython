{
 "cells": [
  {
   "cell_type": "markdown",
   "metadata": {},
   "source": [
    "#### QUESTION 1"
   ]
  },
  {
   "cell_type": "code",
   "execution_count": 1,
   "metadata": {},
   "outputs": [
    {
     "name": "stdout",
     "output_type": "stream",
     "text": [
      "[-4, -3, -2, -1, 0]\n"
     ]
    }
   ],
   "source": [
    "numbers = [-4, -3, -2, -1, 0, 2, 4, 6]\n",
    "\n",
    "filtered_numbers = [num for num in numbers if num <= 0]\n",
    "\n",
    "print(filtered_numbers)\n"
   ]
  },
  {
   "cell_type": "markdown",
   "metadata": {},
   "source": [
    "#### QUESTION 2"
   ]
  },
  {
   "cell_type": "code",
   "execution_count": 2,
   "metadata": {},
   "outputs": [
    {
     "name": "stdout",
     "output_type": "stream",
     "text": [
      "[1, 2, 3, 4, 5, 6, 7, 8, 9]\n"
     ]
    }
   ],
   "source": [
    "list_of_lists = [[[1, 2, 3]], [[4, 5, 6]], [[7, 8, 9]]]\n",
    "\n",
    "flattened_list = [num for sublist in list_of_lists for subsublist in sublist for num in subsublist]\n",
    "\n",
    "print(flattened_list)\n"
   ]
  },
  {
   "cell_type": "markdown",
   "metadata": {},
   "source": [
    "#### QUESTION 3"
   ]
  },
  {
   "cell_type": "code",
   "execution_count": 8,
   "metadata": {},
   "outputs": [
    {
     "name": "stdout",
     "output_type": "stream",
     "text": [
      "(0, 1, 0, 0, 0, 0, 0, 0)\n",
      "(1, 1, 1, 1, 1, 1, 1, 1)\n",
      "(2, 1, 2, 4, 8, 16, 32, 64)\n",
      "(3, 1, 3, 9, 27, 81, 243, 729)\n",
      "(4, 1, 4, 16, 64, 256, 1024, 4096)\n",
      "(5, 1, 5, 25, 125, 625, 3125, 15625)\n",
      "(6, 1, 6, 36, 216, 1296, 7776, 46656)\n",
      "(7, 1, 7, 49, 343, 2401, 16807, 117649)\n",
      "(8, 1, 8, 64, 512, 4096, 32768, 262144)\n",
      "(9, 1, 9, 81, 729, 6561, 59049, 531441)\n",
      "(10, 1, 10, 100, 1000, 10000, 100000, 1000000)\n"
     ]
    }
   ],
   "source": [
    "def calculate_powers(base, exponent):\n",
    "    return [base**i for i in range(exponent + 1)]\n",
    "num_tuples = 11\n",
    "result = [(i,) + tuple(calculate_powers(i, 6)) for i in range(num_tuples)]\n",
    "\n",
    "\n",
    "\n",
    "for item in result:\n",
    "    print(item)"
   ]
  },
  {
   "cell_type": "markdown",
   "metadata": {},
   "source": [
    "#### QUESTION 4"
   ]
  },
  {
   "cell_type": "code",
   "execution_count": 5,
   "metadata": {},
   "outputs": [
    {
     "name": "stdout",
     "output_type": "stream",
     "text": [
      "[['FINLAND', 'FIN', 'HELSINKI'], ['SWEDEN', 'SWE', 'STOCKHOLM'], ['NORWAY', 'NOR', 'OSLO']]\n"
     ]
    }
   ],
   "source": [
    "countries = [[('Finland', 'Helsinki')], [('Sweden', 'Stockholm')], [('Norway', 'Oslo')]]\n",
    "\n",
    "formatted_countries = [[country.upper(), country[:3].upper(), capital.upper()] for sublist in countries for country, capital in sublist]\n",
    "\n",
    "print(formatted_countries)\n"
   ]
  },
  {
   "cell_type": "markdown",
   "metadata": {},
   "source": [
    "#### QUESTION 5"
   ]
  },
  {
   "cell_type": "code",
   "execution_count": 6,
   "metadata": {},
   "outputs": [
    {
     "name": "stdout",
     "output_type": "stream",
     "text": [
      "[{'country': 'FINLAND', 'city': 'HELSINKI'}, {'country': 'SWEDEN', 'city': 'STOCKHOLM'}, {'country': 'NORWAY', 'city': 'OSLO'}]\n"
     ]
    }
   ],
   "source": [
    "countries = [[('Finland', 'Helsinki')], [('Sweden', 'Stockholm')], [('Norway', 'Oslo')]]\n",
    "\n",
    "list_of_dictionaries = [{'country': country.upper(), 'city': city.upper()} for sublist in countries for country, city in sublist]\n",
    "\n",
    "print(list_of_dictionaries)\n"
   ]
  },
  {
   "cell_type": "markdown",
   "metadata": {},
   "source": [
    "#### QUESTION 6"
   ]
  },
  {
   "cell_type": "code",
   "execution_count": 7,
   "metadata": {},
   "outputs": [
    {
     "name": "stdout",
     "output_type": "stream",
     "text": [
      "['Asabeneh Yetayeh', 'David Smith', 'Donald Trump', 'Bill Gates']\n"
     ]
    }
   ],
   "source": [
    "names = [[('Asabeneh', 'Yetayeh')], [('David', 'Smith')], [('Donald', 'Trump')], [('Bill', 'Gates')]]\n",
    "\n",
    "concatenated_names = [' '.join(name) for sublist in names for name in sublist]\n",
    "\n",
    "print(concatenated_names)\n"
   ]
  },
  {
   "cell_type": "markdown",
   "metadata": {},
   "source": [
    "#### QUESTION 7"
   ]
  },
  {
   "cell_type": "code",
   "execution_count": 9,
   "metadata": {},
   "outputs": [
    {
     "name": "stdout",
     "output_type": "stream",
     "text": [
      "Slope (m): 2.0\n",
      "Y-intercept (b): 1.0\n"
     ]
    }
   ],
   "source": [
    "linear_function_solver = lambda x1, y1, x2, y2, solve_for: (\n",
    "    (y2 - y1) / (x2 - x1) if solve_for == 'slope' else\n",
    "    y1 - ((y2 - y1) / (x2 - x1)) * x1\n",
    ")\n",
    "x1, y1 = 0, 1  \n",
    "x2, y2 = 2, 5\n",
    "\n",
    "# Calculate slope using lamda function\n",
    "slope = linear_function_solver(x1, y1, x2, y2, 'slope')\n",
    "print(f\"Slope (m): {slope}\")\n",
    "\n",
    "# calculate y-intercept using lamda function\n",
    "y_intercept = linear_function_solver(x1, y1, x2, y2, 'y_intercept')\n",
    "print(f\"Y-intercept (b): {y_intercept}\")\n"
   ]
  }
 ],
 "metadata": {
  "kernelspec": {
   "display_name": "Python 3",
   "language": "python",
   "name": "python3"
  },
  "language_info": {
   "codemirror_mode": {
    "name": "ipython",
    "version": 3
   },
   "file_extension": ".py",
   "mimetype": "text/x-python",
   "name": "python",
   "nbconvert_exporter": "python",
   "pygments_lexer": "ipython3",
   "version": "3.11.7"
  }
 },
 "nbformat": 4,
 "nbformat_minor": 2
}
