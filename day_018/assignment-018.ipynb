{
 "cells": [
  {
   "cell_type": "markdown",
   "metadata": {},
   "source": [
    "#### QUESTION 1 What is the most frequent word in the following paragraph?\n"
   ]
  },
  {
   "cell_type": "code",
   "execution_count": 1,
   "metadata": {},
   "outputs": [
    {
     "name": "stdout",
     "output_type": "stream",
     "text": [
      "The most frequent word is: you\n"
     ]
    }
   ],
   "source": [
    "from collections import Counter\n",
    "\n",
    "paragraph = 'I love teaching. If you do not love teaching what else can you love. I love Python if you do not love something which can give you all the capabilities to develop an application what else can you love.'\n",
    "\n",
    "# Convert the paragraph to lowercase to make the word count case-insensitive\n",
    "paragraph_lower = paragraph.lower()\n",
    "\n",
    "# Tokenize the paragraph into words\n",
    "words = paragraph_lower.split()\n",
    "\n",
    "# Count the frequency of each word\n",
    "word_counts = Counter(words)\n",
    "\n",
    "# Find the most common word\n",
    "most_common_word = word_counts.most_common(1)[0][0]\n",
    "\n",
    "print(\"The most frequent word is:\", most_common_word)\n"
   ]
  },
  {
   "cell_type": "markdown",
   "metadata": {},
   "source": [
    "#### QUESTION 2 The position of some particles on the horizontal x-axis are -12, -4, -3 and -1 in the negative direction, 0 at origin, 4 and 8 in the positive direction. Extract these numbers from this whole text and find the distance between the two furthest particles.\n"
   ]
  },
  {
   "cell_type": "code",
   "execution_count": 2,
   "metadata": {},
   "outputs": [
    {
     "name": "stdout",
     "output_type": "stream",
     "text": [
      "The distance between the two furthest particles is: 20\n"
     ]
    }
   ],
   "source": [
    "points = ['-12', '-4', '-3', '-1', '0', '4', '8']\n",
    "sorted_points = [-12, -4, -3, -1, 0, 4, 8]\n",
    "\n",
    "# Find the distance between the two furthest particles\n",
    "distance = sorted_points[-1] - sorted_points[0]\n",
    "\n",
    "print(\"The distance between the two furthest particles is:\", distance)\n"
   ]
  },
  {
   "cell_type": "markdown",
   "metadata": {},
   "source": [
    "#### EXERCISE LEVEL 2"
   ]
  },
  {
   "cell_type": "code",
   "execution_count": 3,
   "metadata": {},
   "outputs": [
    {
     "name": "stdout",
     "output_type": "stream",
     "text": [
      "True\n",
      "False\n",
      "False\n",
      "True\n"
     ]
    }
   ],
   "source": [
    "import re\n",
    "\n",
    "def is_valid_variable(variable):\n",
    "    # Define the regular expression pattern for a valid Python variable name\n",
    "    pattern = re.compile(r'^[a-zA-Z_][a-zA-Z0-9_]*$')\n",
    "\n",
    "    # Use the pattern to match the variable\n",
    "    match = pattern.match(variable)\n",
    "\n",
    "    # Check if the match is not None (i.e., there is a match)\n",
    "    return match is not None\n",
    "\n",
    "# Test cases\n",
    "print(is_valid_variable('first_name'))  \n",
    "print(is_valid_variable('first-name'))   \n",
    "print(is_valid_variable('1first_name'))  \n",
    "print(is_valid_variable('firstname'))  \n"
   ]
  },
  {
   "cell_type": "markdown",
   "metadata": {},
   "source": [
    "#### EXERCISE LEVEL 3"
   ]
  },
  {
   "cell_type": "code",
   "execution_count": 4,
   "metadata": {},
   "outputs": [
    {
     "name": "stdout",
     "output_type": "stream",
     "text": [
      "i am a teacher and i love teaching there is nothing as more rewarding as educating and empowering people i found teaching more interesting than any other jobs does this motivate you to be a teacher\n",
      "[('i', 3), ('a', 2), ('teacher', 2)]\n"
     ]
    }
   ],
   "source": [
    "import re\n",
    "from collections import Counter\n",
    "\n",
    "def clean_text(text):\n",
    "    # Remove special characters and symbols\n",
    "    cleaned_text = re.sub(r'[^a-zA-Z\\s]', '', text)\n",
    "\n",
    "    # Convert to lowercase and remove extra whitespaces\n",
    "    cleaned_text = ' '.join(cleaned_text.lower().split())\n",
    "\n",
    "    return cleaned_text\n",
    "\n",
    "def most_frequent_words(text, n=3):\n",
    "    # Tokenize the text into words\n",
    "    words = text.split()\n",
    "\n",
    "    # Count the frequency of each word\n",
    "    word_counts = Counter(words)\n",
    "\n",
    "    # Get the most common words\n",
    "    most_common_words = word_counts.most_common(n)\n",
    "\n",
    "    return most_common_words\n",
    "\n",
    "# Given sentence\n",
    "sentence = '''%I $am@% a %tea@cher%, &and& I lo%#ve %tea@ching%;. There $is nothing; &as& mo@re rewarding as educa@ting &and& @emp%o@wering peo@ple. ;I found tea@ching m%o@re interesting tha@n any other %jo@bs. %Do@es thi%s mo@tivate yo@u to be a tea@cher!?'''\n",
    "\n",
    "# Clean the text\n",
    "cleaned_text = clean_text(sentence)\n",
    "\n",
    "# Print the cleaned text\n",
    "print(cleaned_text)\n",
    "\n",
    "# Get the three most frequent words\n",
    "result = most_frequent_words(cleaned_text, 3)\n",
    "\n",
    "# Print the result\n",
    "print(result)\n"
   ]
  }
 ],
 "metadata": {
  "kernelspec": {
   "display_name": "Python 3",
   "language": "python",
   "name": "python3"
  },
  "language_info": {
   "codemirror_mode": {
    "name": "ipython",
    "version": 3
   },
   "file_extension": ".py",
   "mimetype": "text/x-python",
   "name": "python",
   "nbconvert_exporter": "python",
   "pygments_lexer": "ipython3",
   "version": "3.11.7"
  }
 },
 "nbformat": 4,
 "nbformat_minor": 2
}
