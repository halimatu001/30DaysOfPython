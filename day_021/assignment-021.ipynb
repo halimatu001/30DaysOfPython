{
 "cells": [
  {
   "cell_type": "markdown",
   "metadata": {},
   "source": [
    "#### EXERCISE LEVEL 1"
   ]
  },
  {
   "cell_type": "markdown",
   "metadata": {},
   "source": [
    "#### QUESTION 1 find the min, max, count, percentile, and frequency distribution of the sample. You can create a class called Statistics and create all the functions that do statistical calculations as methods for the Statistics class. Check the output below.\n"
   ]
  },
  {
   "cell_type": "code",
   "execution_count": 1,
   "metadata": {},
   "outputs": [
    {
     "name": "stdout",
     "output_type": "stream",
     "text": [
      "Count: 25\n",
      "Sum: 744\n",
      "Min: 24\n",
      "Max: 38\n",
      "Range: 14\n",
      "Mean: 29.76\n",
      "Median: 29\n",
      "Mode: {'mode': 26, 'count': 5}\n",
      "Standard Deviation: 4.2747319604079665\n",
      "Variance: 18.273333333333333\n",
      "Frequency Distribution: [(5, 26), (4, 27), (3, 32), (2, 37), (2, 34), (2, 33), (2, 31), (2, 24), (1, 38), (1, 29), (1, 25)]\n"
     ]
    }
   ],
   "source": [
    "class Statistics:\n",
    "    def __init__(self, data):\n",
    "        self.data = data\n",
    "\n",
    "    def count(self):\n",
    "        return len(self.data)\n",
    "\n",
    "    def sum(self):\n",
    "        return sum(self.data)\n",
    "\n",
    "    def min(self):\n",
    "        return min(self.data)\n",
    "\n",
    "    def max(self):\n",
    "        return max(self.data)\n",
    "\n",
    "    def range(self):\n",
    "        return max(self.data) - min(self.data)\n",
    "\n",
    "    def mean(self):\n",
    "        return sum(self.data) / len(self.data)\n",
    "\n",
    "    def median(self):\n",
    "        sorted_data = sorted(self.data)\n",
    "        n = len(sorted_data)\n",
    "        middle = n // 2\n",
    "\n",
    "        if n % 2 == 0:\n",
    "            return (sorted_data[middle - 1] + sorted_data[middle]) / 2\n",
    "        else:\n",
    "            return sorted_data[middle]\n",
    "\n",
    "    def mode(self):\n",
    "        from collections import Counter\n",
    "\n",
    "        counts = Counter(self.data)\n",
    "        mode_count = max(counts.values())\n",
    "        mode_values = [key for key, value in counts.items() if value == mode_count]\n",
    "\n",
    "        return {'mode': mode_values[0], 'count': mode_count}\n",
    "\n",
    "    def std(self):\n",
    "        import statistics\n",
    "        return statistics.stdev(self.data)\n",
    "\n",
    "    def var(self):\n",
    "        import statistics\n",
    "        return statistics.variance(self.data)\n",
    "\n",
    "    def freq_dist(self):\n",
    "        from collections import Counter\n",
    "\n",
    "        counts = Counter(self.data)\n",
    "        freq_dist = [(count, value) for value, count in counts.items()]\n",
    "        freq_dist.sort(reverse=True)\n",
    "\n",
    "        return freq_dist\n",
    "\n",
    "ages = [31, 26, 34, 37, 27, 26, 32, 32, 26, 27, 27, 24, 32, 33, 27, 25, 26, 38, 37, 31, 34, 24, 33, 29, 26]\n",
    "\n",
    "data_stats = Statistics(ages)\n",
    "\n",
    "print('Count:', data_stats.count())\n",
    "print('Sum:', data_stats.sum())\n",
    "print('Min:', data_stats.min())\n",
    "print('Max:', data_stats.max())\n",
    "print('Range:', data_stats.range())\n",
    "print('Mean:', data_stats.mean())\n",
    "print('Median:', data_stats.median())\n",
    "print('Mode:', data_stats.mode())\n",
    "print('Standard Deviation:', data_stats.std())\n",
    "print('Variance:', data_stats.var())\n",
    "print('Frequency Distribution:', data_stats.freq_dist())\n"
   ]
  },
  {
   "cell_type": "markdown",
   "metadata": {},
   "source": [
    "#### EXERCISE LEVEL 2 Create a class called PersonAccount. It has firstname, lastname, incomes, expenses properties and it has total_income, total_expense, account_info, add_income, add_expense and account_balance methods. Incomes is a set of incomes and its description. The same goes for expenses."
   ]
  },
  {
   "cell_type": "code",
   "execution_count": 2,
   "metadata": {},
   "outputs": [
    {
     "name": "stdout",
     "output_type": "stream",
     "text": [
      "Account Information for Aisha Umar:\n",
      "Total Income: 50500\n",
      "Total Expense: 25000\n",
      "Account Balance: 25500\n"
     ]
    }
   ],
   "source": [
    "class PersonAccount:\n",
    "    def __init__(self, firstname, lastname):\n",
    "        self.firstname = firstname\n",
    "        self.lastname = lastname\n",
    "        self.incomes = []\n",
    "        self.expenses = []\n",
    "\n",
    "    def add_income(self, amount, description):\n",
    "        self.incomes.append({'amount': amount, 'description': description})\n",
    "\n",
    "    def add_expense(self, amount, description):\n",
    "        self.expenses.append({'amount': amount, 'description': description})\n",
    "\n",
    "    def total_income(self):\n",
    "        return sum(item['amount'] for item in self.incomes)\n",
    "\n",
    "    def total_expense(self):\n",
    "        return sum(item['amount'] for item in self.expenses)\n",
    "\n",
    "    def account_balance(self):\n",
    "        return self.total_income() - self.total_expense()\n",
    "\n",
    "    def account_info(self):\n",
    "        print(f\"Account Information for {self.firstname} {self.lastname}:\")\n",
    "        print(f\"Total Income: {self.total_income()}\")\n",
    "        print(f\"Total Expense: {self.total_expense()}\")\n",
    "        print(f\"Account Balance: {self.account_balance()}\")\n",
    "\n",
    "person = PersonAccount(\"Aisha\", \"Umar\")\n",
    "\n",
    "person.add_income(50000, \"Monthly income\")\n",
    "person.add_income(500, \"Daily income\")\n",
    "\n",
    "person.add_expense(20000, \"Feeding allowance\")\n",
    "person.add_expense(5000, \"Utilities\")\n",
    "\n",
    "person.account_info()\n"
   ]
  }
 ],
 "metadata": {
  "kernelspec": {
   "display_name": "Python 3",
   "language": "python",
   "name": "python3"
  },
  "language_info": {
   "codemirror_mode": {
    "name": "ipython",
    "version": 3
   },
   "file_extension": ".py",
   "mimetype": "text/x-python",
   "name": "python",
   "nbconvert_exporter": "python",
   "pygments_lexer": "ipython3",
   "version": "3.11.7"
  }
 },
 "nbformat": 4,
 "nbformat_minor": 2
}
