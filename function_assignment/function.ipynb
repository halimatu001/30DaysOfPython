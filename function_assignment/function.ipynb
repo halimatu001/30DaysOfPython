{
 "cells": [
  {
   "cell_type": "markdown",
   "metadata": {},
   "source": [
    "####  Write a function called display_message() that prints one sen\u0002tence telling everyone what you are learning about in this chapter. Call the function, and make sure the message displays correctly."
   ]
  },
  {
   "cell_type": "code",
   "execution_count": 11,
   "metadata": {},
   "outputs": [
    {
     "name": "stdout",
     "output_type": "stream",
     "text": [
      "In this chapter, I am exploring the concepts of defining functions, passing information to functions, and working with function argument parameters.\n"
     ]
    }
   ],
   "source": [
    "def display_message():\n",
    "    \"\"\"  Display a message about what you are learning in this chapter\"\"\"\n",
    "    message = \"In this chapter, I am exploring the concepts of defining functions, passing information to functions, and working with function argument parameters.\"\n",
    "    print(message)\n",
    "    \n",
    "display_message()\n"
   ]
  },
  {
   "cell_type": "markdown",
   "metadata": {},
   "source": [
    "####  Write a function called favorite_book() that accepts one parameter, title. The function should print a message, such as One of my favorite books is Alice in Wonderland. Call the function, making sure to include a book title as an argument in the function call."
   ]
  },
  {
   "cell_type": "code",
   "execution_count": 3,
   "metadata": {},
   "outputs": [
    {
     "name": "stdout",
     "output_type": "stream",
     "text": [
      "One of my favorite books is The World Until Yesterday.\n"
     ]
    }
   ],
   "source": [
    "def favorite_book(title):\n",
    "    \"\"\"  Display information the given title is one of my favorite books.\"\"\"    \n",
    "    print(f'One of my favorite books is {title}.')\n",
    "\n",
    "favorite_book(\"The World Until Yesterday\")\n",
    "    \n"
   ]
  },
  {
   "cell_type": "markdown",
   "metadata": {},
   "source": [
    "#### Write a function called make_shirt() that accepts a size and the text of a message that should be printed on the shirt. The function should print a sentence summarizing the size of the shirt and the message printed on it.Call the function once using positional arguments to make a shirt. Call the function a second time using keyword arguments."
   ]
  },
  {
   "cell_type": "code",
   "execution_count": 6,
   "metadata": {},
   "outputs": [
    {
     "name": "stdout",
     "output_type": "stream",
     "text": [
      "Shirt size: Small, Message: Arewa DS academy\n",
      "Shirt size: XXL, Message: Proudly Arewa DS Fellow\n"
     ]
    }
   ],
   "source": [
    "def make_shirt(size, message):\n",
    "    \"\"\"Display a sentence summarizing the size of the shirt and the message printed on it.\"\"\"\n",
    "    summary = f\"Shirt size: {size}, Message: {message}\"\n",
    "    print(summary)\n",
    "    \n",
    "make_shirt(\"Small\", \"Arewa DS academy\")\n",
    "make_shirt(size=\"XXL\", message=\"Proudly Arewa DS Fellow\")\n"
   ]
  },
  {
   "cell_type": "markdown",
   "metadata": {},
   "source": [
    "#### Modify the make_shirt() function so that shirts are large by default with a message that reads I love Python. Make a large shirt and a medium shirt with the default message, and a shirt of any size with a different message."
   ]
  },
  {
   "cell_type": "code",
   "execution_count": 8,
   "metadata": {},
   "outputs": [
    {
     "name": "stdout",
     "output_type": "stream",
     "text": [
      "Shirt size: Large, Message: Arewa Data Science Academy\n",
      "Shirt size: XXL, Message: Arewa Data Science Academy\n",
      "Shirt size: Small, Message: 30DaysOfPython\n"
     ]
    }
   ],
   "source": [
    "def make_shirt(size=\"Large\", message=\"Arewa Data Science Academy\"):\n",
    "    \"\"\" Display a sentence summarizing the size of the shirt and the message printed on it.\"\"\"\n",
    "    summary = f\"Shirt size: {size}, Message: {message}\"\n",
    "    print(summary)\n",
    "make_shirt()\n",
    "make_shirt(size=\"XXL\")\n",
    "\n",
    "# Create a shirt of any size with a different message\n",
    "make_shirt(size=\"Small\", message=\"30DaysOfPython\")\n"
   ]
  },
  {
   "cell_type": "markdown",
   "metadata": {},
   "source": [
    "#### Write a function called describe_city() that accepts the name of a city and its country. The function should print a simple sentence, such as Reykjavik is in Iceland. Give the parameter for the country a default value. Call your function for three different cities, at least one of which is not in the default country."
   ]
  },
  {
   "cell_type": "code",
   "execution_count": 12,
   "metadata": {},
   "outputs": [
    {
     "name": "stdout",
     "output_type": "stream",
     "text": [
      "Kano is in Nigeria.\n",
      "Accra is in Ghana.\n",
      "Niamey is in Default Country.\n"
     ]
    }
   ],
   "source": [
    "def describe_city(city, country=\"Default Country\"):\n",
    "    \"\"\" Display a simple sentence describing the city and its country. \"\"\"\n",
    "    description = f\"{city} is in {country}.\"\n",
    "    print(description)\n",
    "    \n",
    "describe_city(\"Kano\", \"Nigeria\")\n",
    "describe_city(\"Accra\", \"Ghana\")\n",
    "describe_city(\"Niamey\") \n"
   ]
  },
  {
   "cell_type": "markdown",
   "metadata": {},
   "source": [
    "#### Write a function called city_country() that takes in the name of a city and its country. The function should return a string formatted like this: \"Santiago, Chile\" Call your function with at least three city-country pairs, and print the values that are returned."
   ]
  },
  {
   "cell_type": "code",
   "execution_count": 10,
   "metadata": {},
   "outputs": [
    {
     "name": "stdout",
     "output_type": "stream",
     "text": [
      "Kano, Nigeria\n",
      "Accra, Ghana\n",
      "Niamey, Niger Republic\n"
     ]
    }
   ],
   "source": [
    "def city_country(city, country):\n",
    "    \"\"\" Return a formatted string with \"City, Country.\"\"\"\n",
    "    formatted_string = f\"{city}, {country}\"\n",
    "    return formatted_string\n",
    "\n",
    "# Call the function with three city-country pairs and print the results\n",
    "result1 = city_country(\"Kano\", \"Nigeria\")\n",
    "result2 = city_country(\"Accra\", \"Ghana\")\n",
    "result3 = city_country(\"Niamey\", \"Niger Republic\")\n",
    "\n",
    "print(result1)\n",
    "print(result2)\n",
    "print(result3)\n"
   ]
  },
  {
   "cell_type": "markdown",
   "metadata": {},
   "source": [
    "#### Album: Write a function called make_album() that builds a dictionary describing a music album. The function should take in an artist name and an album title, and it should return a dictionary containing these two pieces of information. Use the function to make three dictionaries representing different albums. Print each return value to show that the dictionaries are storing the album information correctly.\n"
   ]
  },
  {
   "cell_type": "code",
   "execution_count": 1,
   "metadata": {},
   "outputs": [
    {
     "name": "stdout",
     "output_type": "stream",
     "text": [
      "{'artist': 'Burna Boy', 'title': 'African Giant'}\n",
      "{'artist': 'Wizkid', 'title': 'Made in Lagos', 'songs': 3}\n",
      "{'artist': 'Yemi Alade', 'title': 'Mama Africa'}\n"
     ]
    }
   ],
   "source": [
    "def make_album(artist, title, songs=None):\n",
    "    \"\"\" Builds and returns a dictionary describing a music album.\"\"\"\n",
    "    album_info = {'artist': artist, 'title': title}\n",
    "    if songs is not None:\n",
    "        album_info['songs'] = songs\n",
    "    return album_info\n",
    "\n",
    "album1 = make_album(\"Burna Boy\", \"African Giant\")\n",
    "album2 = make_album(\"Wizkid\", \"Made in Lagos\", songs=3)\n",
    "album3 = make_album(\"Yemi Alade\", \"Mama Africa\")\n",
    "\n",
    "print(album1)\n",
    "print(album2)\n",
    "print(album3)"
   ]
  },
  {
   "cell_type": "markdown",
   "metadata": {},
   "source": [
    "#### Use None to add an optional parameter to make_album() that allows you to store the number of songs on an album. If the calling line includes a value for the number of songs, add that value to the album’s dictionary. Make at least one new function call that includes the number of songs on an album."
   ]
  },
  {
   "cell_type": "code",
   "execution_count": 1,
   "metadata": {},
   "outputs": [
    {
     "name": "stdout",
     "output_type": "stream",
     "text": [
      "{'Artist': 'Yemi Alade', 'album': 'Mama Africa', 'Number of Songs': 10}\n"
     ]
    }
   ],
   "source": [
    "def make_album(artist_name, album_title, no_songs = None):\n",
    "    \"\"\"Return a dictionary containing artist name and album\"\"\"\n",
    "    album_info = {\"Artist\": artist_name, \"album\": album_title}\n",
    "    if no_songs:\n",
    "        album_info['Number of Songs'] = no_songs\n",
    "    return album_info\n",
    "\n",
    "dict1 = make_album('Yemi Alade', \"Mama Africa\", no_songs=10)\n",
    "print(dict1)"
   ]
  },
  {
   "cell_type": "markdown",
   "metadata": {},
   "source": [
    "#### User Albums: Start with your program from Exercise 8-7. Write a while loop that allows users to enter an album’s artist and title. Once you have that information, call make_album() with the user’s input and print the dictionary that’s created. Be sure to include a quit value in the while loop"
   ]
  },
  {
   "cell_type": "code",
   "execution_count": 2,
   "metadata": {},
   "outputs": [
    {
     "name": "stdout",
     "output_type": "stream",
     "text": [
      "{'Artist': '', 'album': 'Yemi Alade', 'Number of Songs': 'Mama Africa '}\n",
      "{'Artist': '10', 'album': ''}\n",
      "{'Artist': '', 'album': ''}\n"
     ]
    }
   ],
   "source": [
    "while True:\n",
    "    artist_name1 = input(\"Enter artist name or k to quit:\",)\n",
    "    if artist_name1 == \"k\":\n",
    "        break\n",
    "    album_title1 = input(\"enter the album title or k to quit:\",)\n",
    "    if  album_title1 == \"k\":\n",
    "        break\n",
    "    number_songs = input('Enter the no. Songs or k to quit:')\n",
    "    if number_songs == 'k':\n",
    "        break\n",
    "    user_albums = make_album(artist_name1, album_title1, number_songs)\n",
    "    print(user_albums)"
   ]
  },
  {
   "cell_type": "markdown",
   "metadata": {},
   "source": [
    "#### Make a list containing a series of short text messages. Pass the list to a function called show_messages(), which prints each text message."
   ]
  },
  {
   "cell_type": "code",
   "execution_count": 1,
   "metadata": {},
   "outputs": [
    {
     "name": "stdout",
     "output_type": "stream",
     "text": [
      "Hello\n",
      "Hi\n",
      "Good Morning\n",
      "How are you\n"
     ]
    }
   ],
   "source": [
    "def show_messages(messages):\n",
    "    \"\"\"Prints each text message from the provided list.\"\"\"\n",
    "    for message in messages:\n",
    "        print(message)\n",
    "text_messages = ['Hello','Hi','Good Morning','How are you']\n",
    "show_messages(text_messages)\n"
   ]
  },
  {
   "cell_type": "markdown",
   "metadata": {},
   "source": [
    "#### Sending Messages: Start with a copy of your program from Exercise 8-9. Write a function called send_messages() that prints each text message and moves each message to a new list called sent_messages as it’s printed. After calling the function, print both of your lists to make sure the messages were moved correctly"
   ]
  },
  {
   "cell_type": "code",
   "execution_count": 4,
   "metadata": {},
   "outputs": [
    {
     "name": "stdout",
     "output_type": "stream",
     "text": [
      "\n",
      "How are you\n",
      "\n",
      "Good Morning\n",
      "\n",
      "Hi\n",
      "\n",
      "Hello\n",
      "[]\n",
      "['How are you', 'Good Morning', 'Hi', 'Hello']\n"
     ]
    }
   ],
   "source": [
    "def send_messages(messages_list, sent_messages):\n",
    "    \"\"\"Print Each text message and move each message to a new list\"\"\"\n",
    "    while messages_list:\n",
    "        current_message = messages_list.pop()\n",
    "        print(f'\\n{current_message}')\n",
    "        sent_messages.append(current_message)\n",
    "#calling\n",
    "short_text_msg = ['Hello','Hi', 'Good Morning','How are you'] \n",
    "sent_messages =[] \n",
    "send_messages(short_text_msg,sent_messages) \n",
    "#After calling the function, print both of your lists to make sure the messages were moved correctly\n",
    "print(short_text_msg)\n",
    "print(sent_messages)\n"
   ]
  },
  {
   "cell_type": "markdown",
   "metadata": {},
   "source": [
    "#### Archived Messages: Start with your work from Exercise 8-10. Call the function send_messages() with a copy of the list of messages. After calling the function, print both of your lists to show that the original list has retained its messages."
   ]
  },
  {
   "cell_type": "code",
   "execution_count": 5,
   "metadata": {},
   "outputs": [
    {
     "name": "stdout",
     "output_type": "stream",
     "text": [
      "\n",
      "How are you?\n",
      "\n",
      "Good Morning\n",
      "\n",
      "Hi\n",
      "\n",
      "Hello\n"
     ]
    }
   ],
   "source": [
    "short_text_msg = ['Hello','Hi','Good Morning', 'How are you?'] \n",
    "sent_messages =[] \n",
    "send_messages(short_text_msg[:], sent_messages)"
   ]
  },
  {
   "cell_type": "markdown",
   "metadata": {},
   "source": [
    "#### Sandwiches: Write a function that accepts a list of items a person wants on a sandwich. The function should have one parameter that collects as many items as the function call provides, and it should print a summary of the sandwich that’s being ordered. Call the function three times, using a different number of arguments each time"
   ]
  },
  {
   "cell_type": "code",
   "execution_count": 6,
   "metadata": {},
   "outputs": [
    {
     "name": "stdout",
     "output_type": "stream",
     "text": [
      "\n",
      " Making sandwitch with below items\n",
      "~ pepper\n",
      "\n",
      " Making sandwitch with below items\n",
      "~ pepper\n",
      "~ salad\n",
      "\n",
      " Making sandwitch with below items\n",
      "~ pepper\n",
      "~ salad\n",
      "~ Cheese\n"
     ]
    }
   ],
   "source": [
    "def make_sandwiches(*toppings):\n",
    "    \"\"\"Print a summary of sandwich being ordered\"\"\"\n",
    "    print(\"\\n Making sandwitch with below items\")\n",
    "    for topping in toppings:\n",
    "        print(f'~ {topping}')\n",
    "make_sandwiches('pepper')\n",
    "make_sandwiches('pepper', \"salad\")\n",
    "make_sandwiches('pepper', \"salad\",\"Cheese\")"
   ]
  },
  {
   "cell_type": "markdown",
   "metadata": {},
   "source": [
    "#### User Profile: Start with a copy of user_profile.py from page 148. Build a profile of yourself by calling build_profile(), using your first and last names and three other key-value pairs that describe you."
   ]
  },
  {
   "cell_type": "code",
   "execution_count": null,
   "metadata": {},
   "outputs": [],
   "source": [
    "def build_profile(first, last, **user_info):\n",
    "    \"\"\"Build a dictionary of myself\"\"\"\n",
    "    user_info['first_name'] = first\n",
    "    user_info['last_name'] = last\n",
    "    return user_info\n",
    "user_profile = build_profile('albert', 'einstein',\n",
    "location='Kano',\n",
    "field='IT')\n",
    "print(user_profile)"
   ]
  },
  {
   "cell_type": "markdown",
   "metadata": {},
   "source": [
    "#### Cars: Write a function that stores information about a car in a dictionary. The function should always receive a manufacturer and a model name. It should then accept an arbitrary number of keyword arguments. Call the function with the required information and two other name-value pairs, such as a color or an optional feature. Your function should work for a call like this one\n",
    "\n",
    "##### car = make_car('subaru', 'outback', color='blue', tow_package=True) Print the dictionary that’s returned to make sure all the information was stored correctly"
   ]
  },
  {
   "cell_type": "code",
   "execution_count": 7,
   "metadata": {},
   "outputs": [
    {
     "name": "stdout",
     "output_type": "stream",
     "text": [
      "{'color': 'blue', 'tow_package': True, 'Manufacturer': 'subaru', 'Model': 'outback'}\n"
     ]
    }
   ],
   "source": [
    "def make_car(manufacturer, model, **kwargs):\n",
    "    \"\"\"Information About a car\"\"\"\n",
    "    kwargs['Manufacturer'] = manufacturer\n",
    "    kwargs['Model'] = model\n",
    "    return kwargs\n",
    "car = make_car('subaru', 'outback', color='blue', tow_package=True)\n",
    "print(car)"
   ]
  },
  {
   "cell_type": "markdown",
   "metadata": {},
   "source": [
    "#### Printing Models: Put the functions for the example printing_models.py in a separate file called printing_functions.py. Write an import statement at the top of printing_models.py, and modify the file to use the imported functions"
   ]
  },
  {
   "cell_type": "code",
   "execution_count": 8,
   "metadata": {},
   "outputs": [
    {
     "name": "stdout",
     "output_type": "stream",
     "text": [
      "Printing model: dodecahedron\n",
      "Printing model: robot pendant\n",
      "Printing model: phone case\n",
      "\n",
      "The following models have been printed:\n",
      "dodecahedron\n",
      "robot pendant\n",
      "phone case\n"
     ]
    }
   ],
   "source": [
    "import printing_function\n",
    "unprinted_designs = ['phone case', 'robot pendant', 'dodecahedron']\n",
    "completed_models = []\n",
    "printing_function.print_models(unprinted_designs, completed_models)\n",
    "printing_function.show_completed_models(completed_models)"
   ]
  },
  {
   "cell_type": "code",
   "execution_count": 9,
   "metadata": {},
   "outputs": [
    {
     "name": "stdout",
     "output_type": "stream",
     "text": [
      "Printing model: dodecahedron\n",
      "Printing model: robot pendant\n",
      "Printing model: phone case\n",
      "\n",
      "The following models have been printed:\n",
      "dodecahedron\n",
      "robot pendant\n",
      "phone case\n"
     ]
    }
   ],
   "source": [
    "#below is the main function used in #15 above:\n",
    "def print_models(unprinted_designs, completed_models):\n",
    "    \"\"\"\n",
    "    Simulate printing each design, until none are left.144 Chapter 8\n",
    "    Move each design to completed_models after printing.\n",
    "    \"\"\"\n",
    "    while unprinted_designs:\n",
    "        current_design = unprinted_designs.pop()\n",
    "        print(f\"Printing model: {current_design}\")\n",
    "        completed_models.append(current_design)\n",
    "def show_completed_models(completed_models):\n",
    "    \"\"\"Show all the models that were printed.\"\"\"\n",
    "    print(\"\\nThe following models have been printed:\")\n",
    "    for completed_model in completed_models:\n",
    "        print(completed_model)\n",
    "unprinted_designs = ['phone case', 'robot pendant', 'dodecahedron']\n",
    "completed_models = []\n",
    "print_models(unprinted_designs, completed_models)\n",
    "show_completed_models(completed_models)"
   ]
  },
  {
   "cell_type": "markdown",
   "metadata": {},
   "source": [
    "#### Imports: Using a program you wrote that has one function in it, store that function in a separate file. Import the function into your main program file, and call the function using each of these approaches:\n",
    "\n",
    "#### - import module_name \n",
    "#### - from module_name import function_name\n",
    "#### - from module_name import function_name as fn\n",
    "#### - import module_name as mn\n",
    "#### - from module_name import *"
   ]
  },
  {
   "cell_type": "code",
   "execution_count": 10,
   "metadata": {},
   "outputs": [
    {
     "name": "stdout",
     "output_type": "stream",
     "text": [
      "\n",
      " Making sandwitch with below items\n",
      "~ pepper\n"
     ]
    }
   ],
   "source": [
    "#import module name\n",
    "\n",
    "import sandwith\n",
    "\n",
    "sandwith.make_sandwiches('pepper')\n",
    "\n",
    "\n"
   ]
  },
  {
   "cell_type": "code",
   "execution_count": 11,
   "metadata": {},
   "outputs": [
    {
     "name": "stdout",
     "output_type": "stream",
     "text": [
      "\n",
      " Making sandwitch with below items\n",
      "~ pepper\n"
     ]
    }
   ],
   "source": [
    "#from module_name import function_name\n",
    "from sandwith import make_sandwiches\n",
    "make_sandwiches('pepper')"
   ]
  },
  {
   "cell_type": "code",
   "execution_count": 12,
   "metadata": {},
   "outputs": [
    {
     "name": "stdout",
     "output_type": "stream",
     "text": [
      "\n",
      " Making sandwitch with below items\n",
      "~ pepper\n"
     ]
    }
   ],
   "source": [
    "#from module_name import function_name as fn\n",
    "from sandwith import make_sandwiches as ms\n",
    "ms('pepper')"
   ]
  },
  {
   "cell_type": "code",
   "execution_count": 13,
   "metadata": {},
   "outputs": [
    {
     "name": "stdout",
     "output_type": "stream",
     "text": [
      "\n",
      " Making sandwitch with below items\n",
      "~ pepper\n"
     ]
    }
   ],
   "source": [
    "#import module_name as mn\n",
    "import sandwith as SD\n",
    "SD.make_sandwiches('pepper')"
   ]
  },
  {
   "cell_type": "code",
   "execution_count": 14,
   "metadata": {},
   "outputs": [
    {
     "name": "stdout",
     "output_type": "stream",
     "text": [
      "\n",
      " Making sandwitch with below items\n",
      "~ pepper\n"
     ]
    }
   ],
   "source": [
    "#from module_name import *\n",
    "from sandwith import *\n",
    "make_sandwiches('pepper')"
   ]
  },
  {
   "cell_type": "markdown",
   "metadata": {},
   "source": [
    "#### Styling Functions: Choose any three programs you wrote for this chapter, and make sure they follow the styling guidelines described in this section"
   ]
  },
  {
   "cell_type": "code",
   "execution_count": null,
   "metadata": {},
   "outputs": [],
   "source": [
    "#All functions written in this file follow the styling guidlines.\n",
    "# Three examples to consider could be the \n",
    "#make_car function in 14\n",
    "#make_sandwiches function in 12\n",
    "#send_messages function in 10"
   ]
  }
 ],
 "metadata": {
  "kernelspec": {
   "display_name": "Python 3",
   "language": "python",
   "name": "python3"
  },
  "language_info": {
   "codemirror_mode": {
    "name": "ipython",
    "version": 3
   },
   "file_extension": ".py",
   "mimetype": "text/x-python",
   "name": "python",
   "nbconvert_exporter": "python",
   "pygments_lexer": "ipython3",
   "version": "3.11.7"
  }
 },
 "nbformat": 4,
 "nbformat_minor": 2
}
